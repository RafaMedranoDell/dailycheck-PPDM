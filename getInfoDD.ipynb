{
 "cells": [
  {
   "cell_type": "code",
   "execution_count": 1,
   "metadata": {},
   "outputs": [],
   "source": [
    "import os\n",
    "import requests\n",
    "import json\n",
    "import urllib3\n",
    "from password_manager import PasswordManager"
   ]
  },
  {
   "cell_type": "code",
   "execution_count": 2,
   "metadata": {},
   "outputs": [],
   "source": [
    "# deshabilitar la advertencia de InsecureRequestWarning\n",
    "urllib3.disable_warnings(urllib3.exceptions.InsecureRequestWarning)"
   ]
  },
  {
   "cell_type": "code",
   "execution_count": 3,
   "metadata": {},
   "outputs": [],
   "source": [
    "#Definicion de Variables\n",
    "config_file = \"config_encrypted.json\""
   ]
  },
  {
   "cell_type": "code",
   "execution_count": 4,
   "metadata": {},
   "outputs": [],
   "source": [
    "# Funcion para leer configuracion desde JSON\n",
    "def load_config(config_file):\n",
    "    with open(config_file, \"r\") as file:\n",
    "        return json.load(file)"
   ]
  },
  {
   "cell_type": "code",
   "execution_count": 5,
   "metadata": {},
   "outputs": [],
   "source": [
    "def get_filtered_results(url, headers, params, fields, cert_file):\n",
    "    all_filtered_results = []\n",
    "    page = 1\n",
    "    total_pages = None\n",
    "\n",
    "    while total_pages is None or page <= total_pages:\n",
    "        response_data = requests.get(f\"{url}?page={page}\", headers=headers, params=params, verify=False)\n",
    "        response_data_json = response_data.json()\n",
    "\n",
    "        if response_data.status_code != 200:\n",
    "            print(f\"Error: {response_data.status_code}\")\n",
    "            print(response_data.text)  # Detalles del error\n",
    "            break\n",
    "\n",
    "        if total_pages is None:\n",
    "            total_pages = response_data_json['paging_info']['page_entries']\n",
    "            print(\"TOTAL PAGES: \", total_pages)\n",
    "        \n",
    "        print(f\"PAGE NUMBER: {page}\")\n",
    "\n",
    "        content_entries = response_data_json.get('alert_list', [])\n",
    "        filtered_results = filter_entries(content_entries, fields)\n",
    "        all_filtered_results.extend(filtered_results)\n",
    "\n",
    "        page += 1  # Incrementar la pgina para la siguiente iteracin\n",
    "\n",
    "    return all_filtered_results"
   ]
  },
  {
   "cell_type": "code",
   "execution_count": 6,
   "metadata": {},
   "outputs": [],
   "source": [
    "def get_value_from_nested_keys(data, keys):\n",
    "    for key in keys:\n",
    "        if not isinstance(data, dict):\n",
    "            return None\n",
    "        data = data.get(key)\n",
    "    return data"
   ]
  },
  {
   "cell_type": "code",
   "execution_count": 7,
   "metadata": {},
   "outputs": [],
   "source": [
    "def filter_entries(entries, fields):\n",
    "    filtered_results = []\n",
    "    for entry in entries:\n",
    "        filtered_entry = {}\n",
    "        for field in fields:\n",
    "            keys = field.split('.')\n",
    "            value = get_value_from_nested_keys(entry, keys)\n",
    "            filtered_entry[field] = value\n",
    "        filtered_results.append(filtered_entry)\n",
    "    return filtered_results"
   ]
  },
  {
   "cell_type": "code",
   "execution_count": 8,
   "metadata": {},
   "outputs": [],
   "source": [
    "# Guardar los datos en un archivo JSON\n",
    "def save_json(data, system, instance, query_name, base_path):\n",
    "    output_file = os.path.join(base_path, f\"{system}-{instance}-{query_name}\")\n",
    "    with open(output_file, \"w\") as file:\n",
    "        json.dump(data, file, indent=4)\n",
    "    print(f\"Datos guardados en: {output_file}\")"
   ]
  },
  {
   "cell_type": "code",
   "execution_count": 9,
   "metadata": {},
   "outputs": [],
   "source": [
    "#Funcion para obtener el token\n",
    "def get_token_DD(instance, username, encrypted_password, cert_file):\n",
    "    url = f'https://ddve-01:3009/rest/v1.0/auth'\n",
    "    headers = {\n",
    "        'Content-Type': 'application/json'\n",
    "    }\n",
    "\n",
    "    # Crear instancia de PasswordManager y desencriptar la contraseña\n",
    "    password_manager = PasswordManager()\n",
    "    password = password_manager.decrypt_password(encrypted_password)\n",
    "    print(instance, username, password)\n",
    "\n",
    "    data = {\n",
    "        \"username\": username,\n",
    "        \"password\": password\n",
    "    }\n",
    "\n",
    "    response = requests.post(url, headers=headers, data=json.dumps(data), verify=False)\n",
    "    #response = requests.post(url, headers=headers, data=json.dumps(data), verify=cert_file)\n",
    "    \n",
    "    if response.status_code == 201:\n",
    "        response_json = response.json()\n",
    "        access_token = response.headers.get('X-DD-AUTH-TOKEN')\n",
    "        return access_token\n",
    "    else:\n",
    "        print(f\"Error: {response.status_code}\")\n",
    "    return None"
   ]
  },
  {
   "cell_type": "code",
   "execution_count": null,
   "metadata": {},
   "outputs": [],
   "source": [
    "def dd_get_alerts (instance, access_token, cert_file):\n",
    "    url = f'https://{instance}:3009/rest/v2/dd-systems/0/alerts'\n",
    "    headers = {\n",
    "        \"X-DD-AUTH-TOKEN\": access_token\n",
    "    }\n",
    "    # filter_expression = (\n",
    "    #     'status ne \"cleared\" '\n",
    "    # )\n",
    "    #filter_expression = {\"status eq cleared\"}\n",
    "    filter_expression = \"status = active\"\n",
    "    params = {\n",
    "        'filter': filter_expression\n",
    "    }\n",
    "    fields = [\n",
    "        \"status\",\n",
    "        \"severity\",\n",
    "        \"class\",\n",
    "        \"alert_id\",\n",
    "        \"event_id\"\n",
    "        \"name\",\n",
    "        \"msg\",\n",
    "        \"description\",        \n",
    "        \"additional_info\",\n",
    "        \"action\"\n",
    "    ]\n",
    "\n",
    "    return get_filtered_results(url, headers, params, fields, cert_file)"
   ]
  },
  {
   "cell_type": "code",
   "execution_count": 11,
   "metadata": {},
   "outputs": [],
   "source": [
    "def dd_get_services (instance, access_token, cert_file):\n",
    "    print(\"FUNCION GET SERVICES\", access_token)\n",
    "    url = f'https://{instance}:3009/rest/v1.0/dd-systems/0/services'\n",
    "    headers = {\n",
    "        \"X-DD-AUTH-TOKEN\": access_token\n",
    "    }\n",
    "    params = {}\n",
    "    fields = [\n",
    "        \"name\",\n",
    "        \"status\"\n",
    "    ]\n",
    "    \n",
    "    response_data = requests.get(url, headers=headers, params=params, verify=False)\n",
    "    response_data_json = response_data.json()\n",
    "    # response = requests.post(url, headers=headers, data=json.dumps(data), verify=False)\n",
    "\n",
    "    # filtrar campos\n",
    "    content_entries = response_data_json.get('services', [])\n",
    "    print(\"content entries: \", content_entries)\n",
    "    filtered_results = filter_entries(content_entries, fields)    \n",
    "    print(\"FILTERED_RESULTS: \", filtered_results)\n",
    "\n",
    "    return filtered_results"
   ]
  },
  {
   "cell_type": "code",
   "execution_count": 12,
   "metadata": {},
   "outputs": [],
   "source": [
    "def main():\n",
    "    config = load_config(config_file)\n",
    "    base_path = config[\"basePath\"]  # Obtener la ruta base desde el archivo de configuración\n",
    "    json_relative_path = config[\"jsonPath\"]\n",
    "    jsonPath = os.path.join(base_path, json_relative_path)\n",
    "\n",
    "    for system, system_data in config[\"systems\"].items():\n",
    "        json_files = system_data[\"files\"][\"json\"]  # Obtener los nombres de los archivos JSON del sistema\n",
    "        for instance_info in system_data[\"instances\"]:\n",
    "            instance = instance_info[\"hostname\"]\n",
    "            username = instance_info[\"username\"]\n",
    "            encrypted_password = instance_info[\"encrypted_password\"]\n",
    "\n",
    "\n",
    "            if system == \"DD\":\n",
    "                print(f'{instance} {username} {encrypted_password}')\n",
    "                cert_relative_path = config['systems']['PPDM']['files']['cert']\n",
    "                cert_file = os.path.join(base_path, cert_relative_path)  \n",
    "\n",
    "                access_token = get_token_DD(instance, username, encrypted_password, cert_file)\n",
    "\n",
    "                if not access_token:\n",
    "                    print(f\"Error: no se pudo obtener el token para {instance}.\")\n",
    "                    continue\n",
    "\n",
    "                print(\"Fetching active alerts...\")\n",
    "                data = dd_get_alerts(instance, access_token, cert_file)\n",
    "                save_json(data, system, instance, json_files[\"activeAlerts\"], jsonPath)                            \n",
    "\n",
    "                print(\"Fetching state of services...\")\n",
    "                data = dd_get_services(instance, access_token, cert_file)\n",
    "                save_json(data, system, instance, json_files[\"services\"], jsonPath)"
   ]
  },
  {
   "cell_type": "code",
   "execution_count": 13,
   "metadata": {},
   "outputs": [
    {
     "name": "stdout",
     "output_type": "stream",
     "text": [
      "ddve-01 DCOapi gAAAAABnRgJvvNv2BQW2u8Wdqdhp2AanSQWDO7UJYtOv43EDjPhIHeaB6d90ysW4OMTBp9h-PbwocOMYnVJyagmvheXP3X5CAQ==\n",
      "ddve-01 DCOapi Password123!\n",
      "Fetching active alerts...\n",
      "Error: 400\n",
      "{\"details\": \"**** \\\"status != cleared\\\" doesn't match pattern \\\"^(\\\\s*(severity|class|msg|object_id|status|alert_gen_epoch|node_id|event_id|is_active_only|updated_epoch)\\\\s*=\\\\s*(\\\\S*|(\\\\([^,]*,[^\\\\)]*\\\\))|(\\\"([^\\\"]*(\\\\\\\")*)*\\\"))\\\\s+[aA][nN][dD]\\\\s+)*\\\\s*(severity|class|msg|object_id|status|alert_gen_epoch|node_id|event_id|is_active_only|updated_epoch)\\\\s*=\\\\s*(\\\\S*|(\\\\([^,]*,[^\\\\)]*\\\\))|(\\\"([^\\\"]*(\\\\\\\")*)*\\\"))\\\\s*$\\\".\", \"code\": 5446}\n",
      "Datos guardados en: C:\\github\\dailycheck-PPDM\\jsonFiles\\DD-ddve-01-active_alerts.json\n",
      "Fetching state of services...\n",
      "FUNCION GET SERVICES 07d8250b37f494730ebf39988be89182e\n",
      "content entries:  [{'name': 'ntp', 'status': 'DISABLED', 'link': [{'rel': 'self', 'href': '/rest/v1.0/dd-systems/0/services/ntp'}]}, {'name': 'snmp', 'status': 'ENABLED', 'link': [{'rel': 'self', 'href': '/rest/v1.0/dd-systems/0/services/snmp'}]}, {'name': 'iscsi', 'status': 'DISABLED', 'link': [{'rel': 'self', 'href': '/rest/v1.0/dd-systems/0/services/iscsi'}]}, {'name': 'license-server', 'status': 'NOT_SET', 'link': [{'rel': 'self', 'href': '/rest/v1.0/dd-systems/0/services/license-server'}]}, {'name': 'log', 'status': 'DISABLED', 'link': [{'rel': 'self', 'href': '/rest/v1.0/dd-systems/0/services/log'}]}, {'name': 'asup', 'status': 'ENABLED', 'link': [{'rel': 'self', 'href': '/rest/v1.0/dd-systems/0/services/asup'}]}, {'name': 'nfs', 'status': 'ENABLED', 'link': [{'rel': 'self', 'href': 'N/A'}]}, {'name': 'filesys', 'status': 'ENABLED', 'link': [{'rel': 'self', 'href': 'N/A'}]}, {'name': 'encryption', 'status': 'DISABLED', 'link': [{'rel': 'self', 'href': 'N/A'}]}, {'name': 'cloud', 'status': 'DISABLED', 'link': [{'rel': 'self', 'href': 'N/A'}]}, {'name': 'ddboost', 'status': 'ENABLED', 'link': [{'rel': 'self', 'href': 'N/A'}]}, {'name': 'cifs', 'status': 'ENABLED', 'link': [{'rel': 'self', 'href': 'N/A'}]}, {'name': 'vdisk', 'status': 'DISABLED', 'link': [{'rel': 'self', 'href': 'N/A'}]}, {'name': 'vtl', 'status': 'DISABLED', 'link': [{'rel': 'self', 'href': 'N/A'}]}, {'name': 'replication', 'status': 'ENABLED', 'link': [{'rel': 'self', 'href': 'N/A'}]}]\n",
      "FILTERED_RESULTS:  [{'name': 'ntp', 'status': 'DISABLED'}, {'name': 'snmp', 'status': 'ENABLED'}, {'name': 'iscsi', 'status': 'DISABLED'}, {'name': 'license-server', 'status': 'NOT_SET'}, {'name': 'log', 'status': 'DISABLED'}, {'name': 'asup', 'status': 'ENABLED'}, {'name': 'nfs', 'status': 'ENABLED'}, {'name': 'filesys', 'status': 'ENABLED'}, {'name': 'encryption', 'status': 'DISABLED'}, {'name': 'cloud', 'status': 'DISABLED'}, {'name': 'ddboost', 'status': 'ENABLED'}, {'name': 'cifs', 'status': 'ENABLED'}, {'name': 'vdisk', 'status': 'DISABLED'}, {'name': 'vtl', 'status': 'DISABLED'}, {'name': 'replication', 'status': 'ENABLED'}]\n",
      "Datos guardados en: C:\\github\\dailycheck-PPDM\\jsonFiles\\DD-ddve-01-services.json\n"
     ]
    }
   ],
   "source": [
    "if __name__ == \"__main__\":\n",
    "    main()"
   ]
  }
 ],
 "metadata": {
  "kernelspec": {
   "display_name": "Python 3",
   "language": "python",
   "name": "python3"
  },
  "language_info": {
   "codemirror_mode": {
    "name": "ipython",
    "version": 3
   },
   "file_extension": ".py",
   "mimetype": "text/x-python",
   "name": "python",
   "nbconvert_exporter": "python",
   "pygments_lexer": "ipython3",
   "version": "3.8.5"
  }
 },
 "nbformat": 4,
 "nbformat_minor": 2
}
