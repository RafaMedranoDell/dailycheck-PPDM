{
 "cells": [
  {
   "cell_type": "code",
   "execution_count": null,
   "metadata": {},
   "outputs": [],
   "source": [
    "import json"
   ]
  },
  {
   "cell_type": "code",
   "execution_count": 1,
   "metadata": {},
   "outputs": [],
   "source": [
    "# Funcion para leer configuracion desde JSON\n",
    "def load_json_file(json_file):\n",
    "    with open(json_file, \"r\") as file:\n",
    "        return json.load(file)"
   ]
  },
  {
   "cell_type": "code",
   "execution_count": null,
   "metadata": {},
   "outputs": [],
   "source": [
    "def get_value_from_nested_keys(data, keys):\n",
    "    for key in keys:\n",
    "        if not isinstance(data, dict):\n",
    "            return None\n",
    "        data = data.get(key)\n",
    "    return data"
   ]
  },
  {
   "cell_type": "code",
   "execution_count": null,
   "metadata": {},
   "outputs": [],
   "source": [
    "def filter_entries(entries, fields):\n",
    "    filtered_results = []\n",
    "    for entry in entries:\n",
    "        filtered_entry = {}\n",
    "        for field in fields:\n",
    "            keys = field.split('.')\n",
    "            value = get_value_from_nested_keys(entry, keys)\n",
    "            filtered_entry[field] = value\n",
    "        filtered_results.append(filtered_entry)\n",
    "    return filtered_results"
   ]
  },
  {
   "cell_type": "code",
   "execution_count": null,
   "metadata": {},
   "outputs": [],
   "source": [
    "# Guardar los datos en un archivo JSON\n",
    "def save_json(data, system, instance, query_name, base_path):\n",
    "    output_file = os.path.join(base_path, f\"{system}-{instance}-{query_name}\")\n",
    "    with open(output_file, \"w\") as file:\n",
    "        json.dump(data, file, indent=4)\n",
    "    print(f\"Datos guardados en: {output_file}\")"
   ]
  }
 ],
 "metadata": {
  "kernelspec": {
   "display_name": "Python 3",
   "language": "python",
   "name": "python3"
  },
  "language_info": {
   "codemirror_mode": {
    "name": "ipython",
    "version": 3
   },
   "file_extension": ".py",
   "mimetype": "text/x-python",
   "name": "python",
   "nbconvert_exporter": "python",
   "pygments_lexer": "ipython3",
   "version": "3.8.5"
  }
 },
 "nbformat": 4,
 "nbformat_minor": 2
}
