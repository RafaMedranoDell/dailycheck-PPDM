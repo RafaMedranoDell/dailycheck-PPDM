{
 "cells": [
  {
   "cell_type": "code",
   "execution_count": 45,
   "metadata": {},
   "outputs": [],
   "source": [
    "import pandas as pd\n",
    "import webbrowser\n",
    "import tempfile\n",
    "import jinja2"
   ]
  },
  {
   "cell_type": "code",
   "execution_count": 46,
   "metadata": {},
   "outputs": [],
   "source": [
    "# Cargar los archivos CSV en DataFrames\n",
    "df_health = pd.read_csv(\"PPDM-PPDM-01-Dashboard-Health.csv\")\n",
    "df_job_group = pd.read_csv(\"PPDM-PPDM-01-Dashboard-JobGroupActivities.csv\")"
   ]
  },
  {
   "cell_type": "code",
   "execution_count": 47,
   "metadata": {},
   "outputs": [],
   "source": [
    "# Definir la función para colorear las celdas en la columna \"Score\"\n",
    "def color_score(val):\n",
    "    if val == 0:\n",
    "        color = 'background-color: green'\n",
    "    elif 0 > val >= -20:\n",
    "        color = 'background-color: yellow'\n",
    "    elif val < -20:\n",
    "        color = 'background-color: red'\n",
    "    else:\n",
    "        color = ''\n",
    "    return color"
   ]
  },
  {
   "cell_type": "code",
   "execution_count": 48,
   "metadata": {},
   "outputs": [],
   "source": [
    "# Definir la funcion para colorear la celda en la columna \"Num\" de la fila \"FAILED\" en la segunda tabla\n",
    "def color_failed(row):\n",
    "    if row['STATUS'] == 'Failed' and row['Num'] != 0:\n",
    "        return ['background-color: red'] * len(row)\n",
    "    return [''] * len(row)"
   ]
  },
  {
   "cell_type": "code",
   "execution_count": 49,
   "metadata": {},
   "outputs": [],
   "source": [
    "# # Definir la funcion para colorear la celda en la columna \"Num\" de la fila \"FAILED\" en la segunda tabla\n",
    "# def color_failed_num(val, status):\n",
    "#     if status == \"Failed\" and val != 0:\n",
    "#         return 'background-color: red'\n",
    "#     return''"
   ]
  },
  {
   "cell_type": "code",
   "execution_count": 50,
   "metadata": {},
   "outputs": [],
   "source": [
    "# styled_job_group = df_job_group.style.apply(\n",
    "#     lambda x: [color_failed_num(val,x['result.status']) if col == 'Num' else '' for col, val in x.iteritems()],\n",
    "#     axis=1\n",
    "# )"
   ]
  },
  {
   "cell_type": "code",
   "execution_count": 51,
   "metadata": {},
   "outputs": [],
   "source": [
    "# Aplicar el estilo solo en la columna \"Score\"\n",
    "styled_health = df_health.style.applymap(color_score, subset=['Score'])\n",
    "styled_job_group = df_job_group.style.apply(color_failed, axis=1)"
   ]
  },
  {
   "cell_type": "code",
   "execution_count": 52,
   "metadata": {},
   "outputs": [],
   "source": [
    "# Convertir cada DataFrame a HTML sin aplicar estilos adicionales\n",
    "html_health = styled_health.to_html(index=False)\n",
    "#html_job_group = df_job_group.to_html(index=False)\n",
    "html_job_group = styled_job_group.to_html(index=False)"
   ]
  },
  {
   "cell_type": "code",
   "execution_count": 53,
   "metadata": {},
   "outputs": [],
   "source": [
    "# Crear el cuerpo HTML del correo con el título\n",
    "html_body = f\"\"\"\n",
    "<html>\n",
    "    <body>\n",
    "        <h2 style=\"font-family: Arial, sans-serif; color: #0044cc;\">DAILYCHECK PPDM</h2>\n",
    "                \n",
    "        <!-- Título antes de la primera tabla -->\n",
    "        <div style=\"padding: 10px;\">\n",
    "            <p style=\"font-family: Arial, sans-serif; font-weight: bold; text-decoration: underline; color: #333;\">\n",
    "                Health Status\n",
    "            </p>\n",
    "            {html_health}\n",
    "        </div>\n",
    "        \n",
    "        <!-- Título antes de la segunda tabla -->\n",
    "        <div style=\"padding: 10px;\">\n",
    "            <p style=\"font-family: Arial, sans-serif; font-weight: bold; text-decoration: underline; color: #333;\">\n",
    "                Jobs | Protection - Last 24 hours\n",
    "            </p>\n",
    "            {html_job_group}\n",
    "        </div>\n",
    "    </body>\n",
    "</html>\n",
    "\"\"\"\n"
   ]
  },
  {
   "cell_type": "code",
   "execution_count": 54,
   "metadata": {},
   "outputs": [],
   "source": [
    "# Guardar el HTML en un archivo temporal y abrirlo en el navegador\n",
    "with tempfile.NamedTemporaryFile('w', delete=False, suffix='.html') as f:\n",
    "    f.write(html_body)\n",
    "    temp_file_path = f.name"
   ]
  },
  {
   "cell_type": "code",
   "execution_count": 55,
   "metadata": {},
   "outputs": [
    {
     "data": {
      "text/plain": [
       "True"
      ]
     },
     "execution_count": 55,
     "metadata": {},
     "output_type": "execute_result"
    }
   ],
   "source": [
    "# Abrir el archivo en el navegador predeterminado\n",
    "webbrowser.open(f'file://{temp_file_path}')"
   ]
  }
 ],
 "metadata": {
  "kernelspec": {
   "display_name": "Python 3",
   "language": "python",
   "name": "python3"
  },
  "language_info": {
   "codemirror_mode": {
    "name": "ipython",
    "version": 3
   },
   "file_extension": ".py",
   "mimetype": "text/x-python",
   "name": "python",
   "nbconvert_exporter": "python",
   "pygments_lexer": "ipython3",
   "version": "3.8.5"
  }
 },
 "nbformat": 4,
 "nbformat_minor": 2
}
