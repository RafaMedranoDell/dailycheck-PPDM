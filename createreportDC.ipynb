{
 "cells": [
  {
   "cell_type": "code",
   "execution_count": 29,
   "metadata": {},
   "outputs": [],
   "source": [
    "import os\n",
    "import pandas as pd\n",
    "import webbrowser\n",
    "import tempfile\n",
    "import json\n",
    "import glob\n",
    "import smtplib\n",
    "from email.mime.multipart import MIMEMultipart\n",
    "from email.mime.text import MIMEText"
   ]
  },
  {
   "cell_type": "code",
   "execution_count": 30,
   "metadata": {},
   "outputs": [],
   "source": [
    "# Leer el archivo de configuración\n",
    "with open(\"config_encrypted.json\") as config_file:\n",
    "    config = json.load(config_file)"
   ]
  },
  {
   "cell_type": "code",
   "execution_count": 31,
   "metadata": {},
   "outputs": [],
   "source": [
    "# Definir la función para colorear las celdas en la columna \"Score\"\n",
    "def color_score(val):\n",
    "    if val == 0:\n",
    "        return 'background-color: #b3e6b3; color: #2d6a2d'  # Verde pastel\n",
    "    elif 0 > val >= -20:\n",
    "        return 'background-color: #fff2b3; color: #7a7a00'  # Amarillo pastel\n",
    "    elif val < -20:\n",
    "        return 'background-color: #f7b3b3; color: #a10000'  # Rojo pastel\n",
    "    return ''"
   ]
  },
  {
   "cell_type": "code",
   "execution_count": 32,
   "metadata": {},
   "outputs": [],
   "source": [
    "# Definir la función para colorear la celda en la columna \"Num\" de la fila \"FAILED\" en la segunda tabla\n",
    "def color_failed(row):\n",
    "    if row['STATUS'] == 'Failed' and row['Num'] != 0:\n",
    "        return ['background-color: #f7b3b3; color: #a10000'] * len(row)\n",
    "    return [''] * len(row)"
   ]
  },
  {
   "cell_type": "code",
   "execution_count": 33,
   "metadata": {},
   "outputs": [],
   "source": [
    "# Definir la función para colorear las celdas en la columna \"status\" de la tercera tabla\n",
    "def color_status(val):\n",
    "    if val == \"GOOD\":\n",
    "        return 'background-color: #b3e6b3; color: #2d6a2d'  # Verde pastel\n",
    "    elif val == \"FAIR\":\n",
    "        return 'background-color: #fff2b3; color: #7a7a00'  # Amarillo pastel\n",
    "    elif val == \"POOR\":\n",
    "        return 'background-color: #f7b3b3; color: #a10000'  # Rojo pastel\n",
    "    return ''"
   ]
  },
  {
   "cell_type": "code",
   "execution_count": 34,
   "metadata": {},
   "outputs": [],
   "source": [
    "# Definir la función para colorear las celdas en la columna \"READINESS\"\n",
    "def color_readiness(val): \n",
    "    if val == \"ready\": \n",
    "        return 'background-color: #b3e6b3; color: #2d6a2d'  # Verde pastel\n",
    "    elif val == \"migrating\": \n",
    "        return 'background-color: #fff2b3; color: #7a7a00'  # Amarillo pastel\n",
    "    elif val == \"not_ready\": \n",
    "        return 'background-color: #f7b3b3; color: #a10000'  # Rojo pastel\n",
    "    return ''"
   ]
  },
  {
   "cell_type": "code",
   "execution_count": 35,
   "metadata": {},
   "outputs": [],
   "source": [
    "# CSS modificado con control de altura\n",
    "table_style = \"\"\"\n",
    "<style>\n",
    "    /* Reset de estilos para Outlook */\n",
    "    table {\n",
    "        border-collapse: collapse !important;\n",
    "        width: 100% !important;\n",
    "        margin-bottom: 20px !important;\n",
    "        mso-table-lspace: 0pt !important;\n",
    "        mso-table-rspace: 0pt !important;\n",
    "        font-size: 11px !important;\n",
    "    }\n",
    "    th, td {\n",
    "        border: 1px solid #ddd !important;\n",
    "        padding: 2px 4px !important;  /* Reducido el padding vertical a 2px */\n",
    "        text-align: left !important;\n",
    "        font-family: Arial, sans-serif !important;\n",
    "        font-size: 11px !important;\n",
    "        mso-line-height-rule: exactly !important;\n",
    "        line-height: 1.2 !important;  /* Altura de línea reducida */\n",
    "        height: 16px !important;      /* Altura fija para las celdas */\n",
    "    }\n",
    "    th {\n",
    "        background-color: #cccccc !important;\n",
    "        color: white !important;\n",
    "        font-weight: bold !important;\n",
    "        height: 18px !important;      /* Altura ligeramente mayor para encabezados */\n",
    "    }\n",
    "    tr {\n",
    "        height: 16px !important;      /* Altura fija para las filas */\n",
    "    }\n",
    "    tr:nth-child(even) {\n",
    "        background-color: #f2f2f2 !important;\n",
    "    }\n",
    "    /* Contenedor de tabla para layout lado a lado */\n",
    "    .table-cell {\n",
    "        width: 48% !important;\n",
    "        padding: 5px !important;\n",
    "        vertical-align: top !important;\n",
    "    }\n",
    "    /* Clase específica para las tablas de datos */\n",
    "    .data-table {\n",
    "        margin: 0 !important;\n",
    "        padding: 0 !important;\n",
    "    }\n",
    "    .data-table td {\n",
    "        height: 16px !important;\n",
    "        max-height: 16px !important;\n",
    "        overflow: hidden !important;\n",
    "        white-space: nowrap !important;\n",
    "    }\n",
    "</style>\n",
    "\"\"\""
   ]
  },
  {
   "cell_type": "code",
   "execution_count": 36,
   "metadata": {},
   "outputs": [],
   "source": [
    "# Modificar las funciones de estilizado para incluir las clases\n",
    "def load_and_style_data(system, hostname, config):\n",
    "    # Obtener los nombres de archivo desde la configuración\n",
    "    base_path = config['basePath']\n",
    "    csv_relative_path = config['csvPath']\n",
    "    csvPath= os.path.join(base_path, csv_relative_path)\n",
    "    csv_files = config['systems'][system]['files']['csv']\n",
    "\n",
    "    health_files = glob.glob(f\"{csvPath}/{system}-{hostname}-{csv_files['dashboardHealh']}\")\n",
    "    job_files = glob.glob(f\"{csvPath}/{system}-{hostname}-{csv_files['dashboardjobgroupActivities']}\")\n",
    "    rate_files = glob.glob(f\"{csvPath}/{system}-{hostname}-{csv_files['dashboardJobGroupRate']}\")\n",
    "    storage_files = glob.glob(f\"{csvPath}/{system}-{hostname}-{csv_files['storageSystems']}\")\n",
    " \n",
    "    html_health = \"\"\n",
    "    html_job_group = \"\"\n",
    "    html_job_rate = \"\"\n",
    "    html_storage_systems = \"\"\n",
    "    \n",
    "    # Process Health files\n",
    "    for health_file in health_files:\n",
    "        df_health = pd.read_csv(health_file)\n",
    "        styled_health = df_health.style.applymap(color_score, subset=['Score'])\n",
    "        html_health = styled_health.to_html(table_attributes='class=\"data-table\"')\n",
    "    \n",
    "    # Process Job Group Activities files\n",
    "    for job_file in job_files:\n",
    "        df_job_group = pd.read_csv(job_file)\n",
    "        styled_job_group = df_job_group.style.apply(color_failed, axis=1)\n",
    "        html_job_group = styled_job_group.to_html(table_attributes='class=\"data-table\"')\n",
    "\n",
    "    # Process Job Group Rate files (nueva tabla)\n",
    "    for rate_file in rate_files:\n",
    "        df_rate = pd.read_csv(rate_file)\n",
    "        html_job_rate = df_rate.to_html(classes=\"data-table\", index=False)\n",
    "\n",
    "    # Process Storage Systems files\n",
    "    for storage_file in storage_files:\n",
    "        df_storage = pd.read_csv(storage_file)\n",
    "        styled_storage_systems = (\n",
    "            df_storage.style\n",
    "            .format(precision=2)  # Limitar a dos decimales en todas las columnas numéricas\n",
    "            .applymap(color_status, subset=['STATUS'])  # Aplicar color solo en la columna \"status\"\n",
    "            .applymap(color_readiness, subset=['READINESS'])  # Estilo en 'READINESS'            \n",
    "        )\n",
    "        html_storage_systems = styled_storage_systems.to_html(table_attributes='class=\"data-table\"')\n",
    "  \n",
    "    return html_health, html_job_group, html_job_rate, html_storage_systems"
   ]
  },
  {
   "cell_type": "code",
   "execution_count": 37,
   "metadata": {},
   "outputs": [],
   "source": [
    "# El resto del HTML con atributos adicionales para control de altura\n",
    "html_body = f\"\"\"\n",
    "<html xmlns:v=\"urn:schemas-microsoft-com:vml\" xmlns:o=\"urn:schemas-microsoft-com:office:office\" xmlns:w=\"urn:schemas-microsoft-com:office:word\" xmlns:m=\"http://schemas.microsoft.com/office/2004/12/omml\" xmlns=\"http://www.w3.org/TR/REC-html40\">\n",
    "    <head>\n",
    "        {table_style}\n",
    "        <!--[if gte mso 9]>\n",
    "        <xml>\n",
    "            <o:OfficeDocumentSettings>\n",
    "                <o:AllowPNG/>\n",
    "                <o:PixelsPerInch>96</o:PixelsPerInch>\n",
    "            </o:OfficeDocumentSettings>\n",
    "        </xml>\n",
    "        <![endif]-->\n",
    "    </head>\n",
    "    <body style=\"margin: 0; padding: 0; font-family: Arial, sans-serif;\">\n",
    "        <div style=\"width: 100%; max-width: 1200px; margin: 0 auto;\">\n",
    "            <h2 style=\"font-family: Arial, sans-serif; color: #0044cc; margin-bottom: 10px;\">DAILY CHECK PPDM</h2>\n",
    "\"\"\""
   ]
  },
  {
   "cell_type": "code",
   "execution_count": 38,
   "metadata": {},
   "outputs": [],
   "source": [
    "# Iterar sobre los sistemas y hostnames\n",
    "for system, system_config in config[\"systems\"].items():\n",
    "\n",
    "    # Verificar si el sistema es PPDM\n",
    "    if system != \"PPDM\":\n",
    "        continue  # Saltar a la siguiente iteración si no es PPDM\n",
    "    \n",
    "    for instance_config in system_config['instances']:\n",
    "        hostname = instance_config[\"hostname\"]\n",
    "        \n",
    "        # Load data\n",
    "        html_health, html_job_group, html_job_rate, html_storage_systems = load_and_style_data(system, hostname, config)\n",
    "        \n",
    "        # Use table for layout with height attributes\n",
    "        html_body += f\"\"\"\n",
    "        <h3 style=\"font-family: Arial, sans-serif; color: #0066cc; margin: 10px 0;\">Hostname: {hostname}</h3>\n",
    "        <table cellpadding=\"0\" cellspacing=\"0\" border=\"0\" width=\"100%\" style=\"table-layout: fixed;\">\n",
    "            <tr>\n",
    "                <td class=\"table-cell\">\n",
    "                    <p style=\"font-family: Arial, sans-serif; font-weight: bold; text-decoration: underline; color: #333; margin: 5px 0;\">\n",
    "                        Jobs | Protection - Last 24 hours\n",
    "                    </p>\n",
    "                    {html_job_group}\n",
    "                </td>\n",
    "                <td class=\"table-cell\">\n",
    "                    <p style=\"font-family: Arial, sans-serif; font-weight: bold; text-decoration: underline; color: #333; margin: 5px 0;\">\n",
    "                        Job Group Rate\n",
    "                    </p>\n",
    "                    {html_job_rate}\n",
    "                </td>\n",
    "                <td class=\"table-cell\">\n",
    "                    <p style=\"font-family: Arial, sans-serif; font-weight: bold; text-decoration: underline; color: #333; margin: 5px 0;\">\n",
    "                        Health Status\n",
    "                    </p>\n",
    "                    {html_health}\n",
    "                </td>\n",
    "                <td class=\"table-cell\">\n",
    "                    <p style=\"font-family: Arial, sans-serif; font-weight: bold; text-decoration: underline; color: #333; margin: 5px 0;\">\n",
    "                        Storage Systems\n",
    "                    </p>\n",
    "                    {html_storage_systems}\n",
    "                </td>\n",
    "            </tr>\n",
    "        </table>\n",
    "        \"\"\""
   ]
  },
  {
   "cell_type": "code",
   "execution_count": 39,
   "metadata": {},
   "outputs": [],
   "source": [
    "# Finalizar el HTML\n",
    "html_body += \"\"\"\n",
    "        </div>\n",
    "    </body>\n",
    "</html>\n",
    "\"\"\""
   ]
  },
  {
   "cell_type": "code",
   "execution_count": 40,
   "metadata": {},
   "outputs": [],
   "source": [
    "# Guardar el HTML en un archivo temporal y abrirlo en el navegador\n",
    "with tempfile.NamedTemporaryFile('w', delete=False, suffix='.html') as f:\n",
    "    f.write(html_body)\n",
    "    temp_file_path = f.name"
   ]
  },
  {
   "cell_type": "code",
   "execution_count": 41,
   "metadata": {},
   "outputs": [
    {
     "data": {
      "text/plain": [
       "True"
      ]
     },
     "execution_count": 41,
     "metadata": {},
     "output_type": "execute_result"
    }
   ],
   "source": [
    "# Abrir el archivo en el navegador predeterminado\n",
    "webbrowser.open(f'file://{temp_file_path}')"
   ]
  },
  {
   "cell_type": "code",
   "execution_count": 42,
   "metadata": {},
   "outputs": [],
   "source": [
    "# # Configurar los parámetros del correo\n",
    "# sender_email = \"DailycheckHDV@hdv.com\"\n",
    "# receiver_email = \"dell.residencies@dell.com\"\n",
    "# subject = \"DAILYCHECK \"\n",
    "# smtp_server = \"esa-relay.rsvgnw.local\"\n",
    "# smtp_port = 25\n",
    "\n",
    "# # Crear el mensaje MIME\n",
    "# message = MIMEMultipart(\"alternative\")\n",
    "# message[\"Subject\"] = subject\n",
    "# message[\"From\"] = sender_email\n",
    "# message[\"To\"] = receiver_email\n",
    "\n",
    "# # Agregar el contenido HTML al mensaje\n",
    "# html_part = MIMEText(html_body, \"html\")\n",
    "# message.attach(html_part)\n",
    "\n",
    "# # Enviar el correo sin autenticación\n",
    "# with smtplib.SMTP(smtp_server, smtp_port) as server:\n",
    "#     server.sendmail(sender_email, receiver_email, message.as_string())"
   ]
  }
 ],
 "metadata": {
  "kernelspec": {
   "display_name": "Python 3",
   "language": "python",
   "name": "python3"
  },
  "language_info": {
   "codemirror_mode": {
    "name": "ipython",
    "version": 3
   },
   "file_extension": ".py",
   "mimetype": "text/x-python",
   "name": "python",
   "nbconvert_exporter": "python",
   "pygments_lexer": "ipython3",
   "version": "3.8.5"
  }
 },
 "nbformat": 4,
 "nbformat_minor": 2
}
