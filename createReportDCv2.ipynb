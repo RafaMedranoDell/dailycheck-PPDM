{
 "cells": [
  {
   "cell_type": "code",
   "execution_count": null,
   "metadata": {},
   "outputs": [],
   "source": [
    "import modules.functions as fn\n",
    "import os\n",
    "import pandas as pd\n",
    "import glob\n",
    "import json\n",
    "import webbrowser\n",
    "import tempfile\n",
    "from datetime import datetime\n",
    "from email.mime.multipart import MIMEMultipart\n",
    "from email.mime.text import MIMEText"
   ]
  },
  {
   "cell_type": "markdown",
   "metadata": {},
   "source": [
    "##### === CONFIGURACIÓN DE ESTILOS ===\n"
   ]
  },
  {
   "cell_type": "code",
   "execution_count": null,
   "metadata": {},
   "outputs": [],
   "source": [
    "def get_table_styles():\n",
    "    return \"\"\"\n",
    "    <style>\n",
    "        /* Reset de estilos para Outlook */\n",
    "        table {\n",
    "            border-collapse: collapse !important;\n",
    "            width: 100% !important;\n",
    "            margin-bottom: 20px !important;\n",
    "            mso-table-lspace: 0pt !important;\n",
    "            mso-table-rspace: 0pt !important;\n",
    "            font-size: 11px !important;\n",
    "        }\n",
    "        th, td {\n",
    "            border: 1px solid #ddd !important;\n",
    "            padding: 2px 4px !important;  /* Reducido el padding vertical a 2px */\n",
    "            text-align: left !important;\n",
    "            font-family: Arial, sans-serif !important;\n",
    "            font-size: 11px !important;\n",
    "            mso-line-height-rule: exactly !important;\n",
    "            line-height: 1.2 !important;  /* Altura de línea reducida */\n",
    "            height: 16px !important;      /* Altura fija para las celdas */\n",
    "        }\n",
    "        th {\n",
    "            background-color: #cccccc !important;\n",
    "            color: white !important;\n",
    "            font-weight: bold !important;\n",
    "            height: 18px !important;      /* Altura ligeramente mayor para encabezados */\n",
    "        }\n",
    "        tr {\n",
    "            height: 16px !important;      /* Altura fija para las filas */\n",
    "        }\n",
    "        tr:nth-child(even) {\n",
    "            background-color: #f2f2f2 !important;\n",
    "        }\n",
    "        /* Contenedor de tabla para layout lado a lado */\n",
    "        .table-cell {\n",
    "            width: 48% !important;\n",
    "            padding: 5px !important;\n",
    "            vertical-align: top !important;\n",
    "        }\n",
    "        /* Clase específica para las tablas de datos */\n",
    "        .data-table {\n",
    "            margin: 0 !important;\n",
    "            padding: 0 !important;\n",
    "        }\n",
    "        .data-table td {\n",
    "            height: 16px !important;\n",
    "            max-height: 16px !important;\n",
    "            overflow: hidden !important;\n",
    "            white-space: nowrap !important;\n",
    "        }\n",
    "    </style>\n",
    "    \"\"\""
   ]
  },
  {
   "cell_type": "markdown",
   "metadata": {},
   "source": [
    "##### === FUNCIONES DE ESTILIZACIÓN ==="
   ]
  },
  {
   "cell_type": "code",
   "execution_count": null,
   "metadata": {},
   "outputs": [],
   "source": [
    "# Definir la función para colorear las celdas en la columna \"Score\"\n",
    "def color_score(val):\n",
    "    if val == 0:\n",
    "        return 'background-color: #b3e6b3; color: #2d6a2d'  # Verde pastel\n",
    "    elif 0 > val >= -20:\n",
    "        return 'background-color: #fff2b3; color: #7a7a00'  # Amarillo pastel\n",
    "    elif val < -20:\n",
    "        return 'background-color: #f7b3b3; color: #a10000'  # Rojo pastel\n",
    "    return ''"
   ]
  },
  {
   "cell_type": "code",
   "execution_count": null,
   "metadata": {},
   "outputs": [],
   "source": [
    "# Definir la función para colorear la celda en la columna \"Num\" de la fila \"FAILED\" en la segunda tabla\n",
    "def color_failed(row):\n",
    "    if row['STATUS'] == 'Failed' and row['Num'] != 0:\n",
    "        return ['background-color: #f7b3b3; color: #a10000'] * len(row)\n",
    "    return [''] * len(row)"
   ]
  },
  {
   "cell_type": "code",
   "execution_count": null,
   "metadata": {},
   "outputs": [],
   "source": [
    "# Definir la función para colorear las celdas en la columna \"status\" de la tercera tabla\n",
    "def color_status(val):\n",
    "    if val == \"GOOD\":\n",
    "        return 'background-color: #b3e6b3; color: #2d6a2d'  # Verde pastel\n",
    "    elif val == \"FAIR\":\n",
    "        return 'background-color: #fff2b3; color: #7a7a00'  # Amarillo pastel\n",
    "    elif val == \"POOR\":\n",
    "        return 'background-color: #f7b3b3; color: #a10000'  # Rojo pastel\n",
    "    return ''"
   ]
  },
  {
   "cell_type": "code",
   "execution_count": null,
   "metadata": {},
   "outputs": [],
   "source": [
    "# Definir la función para colorear las celdas en la columna \"READINESS\"\n",
    "def color_readiness(val): \n",
    "    if val == \"ready\": \n",
    "        return 'background-color: #b3e6b3; color: #2d6a2d'  # Verde pastel\n",
    "    elif val == \"migrating\": \n",
    "        return 'background-color: #fff2b3; color: #7a7a00'  # Amarillo pastel\n",
    "    elif val == \"not_ready\": \n",
    "        return 'background-color: #f7b3b3; color: #a10000'  # Rojo pastel\n",
    "    return ''"
   ]
  },
  {
   "cell_type": "code",
   "execution_count": null,
   "metadata": {},
   "outputs": [],
   "source": [
    "# Definir la función de estilo para colorear las celdas de la columna \"Rate (%)\"\n",
    "def color_rate(val):\n",
    "    if val == 100:\n",
    "        return 'background-color: #b3e6b3; color: #2d6a2d'  # Verde pastel\n",
    "    elif 90 <= val < 100:\n",
    "        return 'background-color: #ffdab3; color: #7a4100'  # Naranja pastel\n",
    "    elif 80 <= val < 90:\n",
    "        return 'background-color: #fff2b3; color: #7a7a00'  # Amarillo pastel\n",
    "    elif val < 80:\n",
    "        return 'background-color: #f7b3b3; color: #a10000'  # Rojo pastel\n",
    "    return ''"
   ]
  },
  {
   "cell_type": "code",
   "execution_count": null,
   "metadata": {},
   "outputs": [],
   "source": [
    "# Definir la función de estilo para colorear las celdas de la columna \"Rate (%)\"\n",
    "def color_health_status(val):\n",
    "    if val == \"GOOD\":\n",
    "        return 'background-color: #b3e6b3; color: #2d6a2d'  # Verde pastel\n",
    "    elif val == \"FAIR\":\n",
    "        return 'background-color: #fff2b3; color: #7a7a00'  # Amarillo pastel\n",
    "    elif val == \"POOR\":\n",
    "        return 'background-color: #f7b3b3; color: #a10000'  # Rojo pastel\n",
    "    return ''"
   ]
  },
  {
   "cell_type": "code",
   "execution_count": null,
   "metadata": {},
   "outputs": [],
   "source": [
    "# Mapear funciones de estilización por sistema\n",
    "STYLE_FUNCTIONS = {\n",
    "    \"PPDM\": {\n",
    "        \"Score\": color_score,\n",
    "        \"STATUS\": color_status,\n",
    "        \"failed\": color_failed,\n",
    "        \"readiness\": color_readiness,\n",
    "        \"Rate (%)\": color_rate,\n",
    "        \"healthStatus\": color_health_status\n",
    "    },\n",
    "    \"DD\": {\"STATUS\": color_status},  # Puedes agregar más columnas y estilos específicos\n",
    "    \"Avamar\": {\"Score\": color_score}  # Ajustar según necesidades\n",
    "}"
   ]
  },
  {
   "cell_type": "markdown",
   "metadata": {},
   "source": [
    "##### === FUNCIONES PRINCIPALES ==="
   ]
  },
  {
   "cell_type": "code",
   "execution_count": null,
   "metadata": {},
   "outputs": [],
   "source": [
    "def process_system_files(system, hostname, config):\n",
    "    base_path = config['basePath']\n",
    "    csv_path = os.path.join(base_path, config['csvPath'])\n",
    "    file_patterns = config['systems'][system]['files']\n",
    "\n",
    "    html_content = []\n",
    "    \n",
    "    for file_key, pattern in file_patterns.items():\n",
    "        file_path = glob.glob(f\"{csv_path}/{system}-{hostname}-{pattern}\")\n",
    "        if not file_path:\n",
    "            continue\n",
    "        \n",
    "        df = pd.read_csv(file_path[0])\n",
    "        \n",
    "        # Aplicar estilos según las funciones definidas para el sistema\n",
    "        style_functions = STYLE_FUNCTIONS.get(system, {})\n",
    "        for column, style_func in style_functions.items():\n",
    "            if column in df.columns:\n",
    "                df.style.applymap(style_func, subset=[column])\n",
    "        \n",
    "        html_table = df.to_html(index=False, table_id=file_key, classes=\"data-table\")\n",
    "        html_content.append(html_table)\n",
    "    \n",
    "    return html_content"
   ]
  },
  {
   "cell_type": "code",
   "execution_count": null,
   "metadata": {},
   "outputs": [],
   "source": [
    "def generate_html_report(config):\n",
    "    html_body = f\"\"\"\n",
    "    <html xmlns:v=\"urn:schemas-microsoft-com:vml\" xmlns:o=\"urn:schemas-microsoft-com:office:office\" xmlns:w=\"urn:schemas-microsoft-com:office:word\" xmlns:m=\"http://schemas.microsoft.com/office/2004/12/omml\" xmlns=\"http://www.w3.org/TR/REC-html40\">\n",
    "    <head>\n",
    "        {get_table_styles()}\n",
    "        <!--[if gte mso 9]>\n",
    "        <xml>\n",
    "            <o:OfficeDocumentSettings>\n",
    "                <o:AllowPNG/>\n",
    "                <o:PixelsPerInch>96</o:PixelsPerInch>\n",
    "            </o:OfficeDocumentSettings>\n",
    "        </xml>\n",
    "        <![endif]-->\n",
    "    </head>\n",
    "    <body style=\"margin: 0; padding: 0; font-family: Arial, sans-serif;\">\n",
    "        <div style=\"width: 100%; max-width: 1200px; margin: 0 auto;\">\n",
    "            <h2 style=\"font-family: Arial, sans-serif; color: #0044cc; margin-bottom: 10px;\">DAILY CHECK PPDM</h2>\n",
    "\"\"\"\n",
    "    \n",
    "    for system, system_config in config[\"systems\"].items():\n",
    "        for instance in system_config[\"instances\"]:\n",
    "            hostname = instance[\"hostname\"]\n",
    "            html_body += f\"<h3>Hostname: {hostname} (System: {system})</h3>\"\n",
    "            \n",
    "            # Procesar archivos y obtener tablas HTML\n",
    "            tables = process_system_files(system, hostname, config)\n",
    "            for table in tables:\n",
    "                html_body += table\n",
    "    \n",
    "    html_body += \"</body></html>\"\n",
    "    return html_body"
   ]
  },
  {
   "cell_type": "markdown",
   "metadata": {},
   "source": [
    "##### === SCRIPT PRINCIPAL ==="
   ]
  },
  {
   "cell_type": "code",
   "execution_count": null,
   "metadata": {},
   "outputs": [],
   "source": [
    "if __name__ == \"__main__\":\n",
    "    config = fn.load_json_file(\"config_encrypted.json\")\n",
    "    html_content = generate_html_report(config)\n",
    "    \n",
    "    # Guardar HTML temporalmente\n",
    "    with tempfile.NamedTemporaryFile(\"w\", delete=False, suffix=\".html\") as f:\n",
    "        f.write(html_content)\n",
    "        webbrowser.open(f\"file://{f.name}\")\n",
    "    \n",
    "    # Enviar el correo (opcional)\n",
    "    # send_email(config, html_content)"
   ]
  }
 ],
 "metadata": {
  "kernelspec": {
   "display_name": "Python 3",
   "language": "python",
   "name": "python3"
  },
  "language_info": {
   "name": "python",
   "version": "3.8.5"
  }
 },
 "nbformat": 4,
 "nbformat_minor": 2
}
