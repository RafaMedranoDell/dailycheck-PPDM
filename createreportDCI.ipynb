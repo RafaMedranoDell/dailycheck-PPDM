{
 "cells": [
  {
   "cell_type": "code",
   "execution_count": 1,
   "metadata": {},
   "outputs": [],
   "source": [
    "import pandas as pd\n",
    "import webbrowser\n",
    "import tempfile\n",
    "import json\n",
    "import glob"
   ]
  },
  {
   "cell_type": "code",
   "execution_count": 2,
   "metadata": {},
   "outputs": [],
   "source": [
    "# Leer el archivo de configuración\n",
    "with open(\"config.json\") as config_file:\n",
    "    config = json.load(config_file)"
   ]
  },
  {
   "cell_type": "code",
   "execution_count": 8,
   "metadata": {},
   "outputs": [],
   "source": [
    "# Función para cargar y aplicar estilo a los datos de Health Events\n",
    "def load_and_style_health_events(system, hostname):\n",
    "    # Cargar el archivo basado en el hostname y system\n",
    "    health_event_files = glob.glob(f\"{system}-{hostname}-Health_events.csv\")\n",
    "\n",
    "    # Inicializar variable para almacenar el HTML\n",
    "    html_health_events = \"\"\n",
    "\n",
    "    # Procesar archivos de \"Health Events\"\n",
    "    for health_event_file in health_event_files:\n",
    "        df_health_events = pd.read_csv(health_event_file)\n",
    "        styled_health_events = df_health_events.style.applymap(color_severity, subset=['severity'])\n",
    "        html_health_events += styled_health_events.to_html()\n",
    "\n",
    "    return html_health_events"
   ]
  },
  {
   "cell_type": "code",
   "execution_count": 16,
   "metadata": {},
   "outputs": [],
   "source": [
    "# Definir la función para colorear las celdas en la columna \"severity\" con tonos pastel\n",
    "def color_severity(val):\n",
    "    if val == 'LOW':\n",
    "        return 'background-color: #b3e6b3; color: #2d6a2d'  # Verde pastel\n",
    "    elif val == 'MEDIUM':\n",
    "        return 'background-color: #fff2b3; color: #7a7a00'  # Amarillo pastel\n",
    "    elif val == 'HIGH':\n",
    "        return 'background-color: #f7b3b3; color: #a10000'  # Rojo pastel\n",
    "    return ''"
   ]
  },
  {
   "cell_type": "code",
   "execution_count": 23,
   "metadata": {},
   "outputs": [],
   "source": [
    "# CSS personalizado para mejorar el estilo visual de las tablas\n",
    "table_style = \"\"\"\n",
    "<style>\n",
    "    table {\n",
    "        border-collapse: collapse;\n",
    "        width: 100%;\n",
    "        font-family: Arial, sans-serif;\n",
    "        margin-bottom: 20px;\n",
    "        font-size: 11px;\n",
    "    }\n",
    "    th, td {\n",
    "        border: 1px solid #ddd;\n",
    "        padding: 8px;\n",
    "        text-align: left;\n",
    "        font-size: 11px;\n",
    "        padding: 4px 4px;  /* Reducir el padding vertical a 4px y horizontal a 8px */\n",
    "    }\n",
    "    th {\n",
    "        background-color: #cccccc;\n",
    "        color: white;\n",
    "        font-weight: bold;\n",
    "    }\n",
    "    tr:nth-child(even) {\n",
    "        background-color: #f2f2f2;\n",
    "    }\n",
    "    tr:hover {\n",
    "        background-color: #ddd;\n",
    "    }\n",
    "</style>\n",
    "\"\"\""
   ]
  },
  {
   "cell_type": "code",
   "execution_count": 24,
   "metadata": {},
   "outputs": [],
   "source": [
    "# Crear el cuerpo HTML del correo\n",
    "html_body = f\"\"\"\n",
    "<html>\n",
    "    <head>{table_style}</head>\n",
    "    <body>\n",
    "        <h2 style=\"font-family: Arial, sans-serif; color: #0044cc;\">DAILYCHECK PPDM - Health Events</h2>\n",
    "\"\"\""
   ]
  },
  {
   "cell_type": "code",
   "execution_count": 25,
   "metadata": {},
   "outputs": [
    {
     "name": "stderr",
     "output_type": "stream",
     "text": [
      "C:\\Users\\medrar1\\AppData\\Local\\Temp\\ipykernel_42544\\3297553199.py:12: FutureWarning: Styler.applymap has been deprecated. Use Styler.map instead.\n",
      "  styled_health_events = df_health_events.style.applymap(color_severity, subset=['severity'])\n",
      "C:\\Users\\medrar1\\AppData\\Local\\Temp\\ipykernel_42544\\3297553199.py:12: FutureWarning: Styler.applymap has been deprecated. Use Styler.map instead.\n",
      "  styled_health_events = df_health_events.style.applymap(color_severity, subset=['severity'])\n"
     ]
    }
   ],
   "source": [
    "# Iterar sobre los sistemas y hostnames en el archivo de configuración\n",
    "for system, instances in config[\"systems\"].items():\n",
    "    for instance in instances:\n",
    "        hostname = instance[\"hostname\"]\n",
    "\n",
    "        # Cargar y dar estilo a los datos para el hostname actual\n",
    "        html_health_events = load_and_style_health_events(system, hostname)\n",
    "\n",
    "        # Agregar la sección para el hostname actual\n",
    "        html_body += f\"\"\"\n",
    "        <h3 style=\"font-family: Arial, sans-serif; color: #0066cc;\">Hostname: {hostname}</h3>\n",
    "        \n",
    "        <div style=\"padding: 10px;\">\n",
    "            <p style=\"font-family: Arial, sans-serif; font-weight: bold; text-decoration: underline; color: #333;\">\n",
    "                Health Events\n",
    "            </p>\n",
    "            {html_health_events}\n",
    "        </div>\n",
    "        \"\"\""
   ]
  },
  {
   "cell_type": "code",
   "execution_count": 26,
   "metadata": {},
   "outputs": [],
   "source": [
    "# Finalizar el HTML\n",
    "html_body += \"</body></html>\""
   ]
  },
  {
   "cell_type": "code",
   "execution_count": 27,
   "metadata": {},
   "outputs": [],
   "source": [
    "# Guardar el HTML en un archivo temporal y abrirlo en el navegador\n",
    "with tempfile.NamedTemporaryFile('w', delete=False, suffix='.html') as f:\n",
    "    f.write(html_body)\n",
    "    temp_file_path = f.name"
   ]
  },
  {
   "cell_type": "code",
   "execution_count": 28,
   "metadata": {},
   "outputs": [
    {
     "data": {
      "text/plain": [
       "True"
      ]
     },
     "execution_count": 28,
     "metadata": {},
     "output_type": "execute_result"
    }
   ],
   "source": [
    "# Abrir el archivo en el navegador predeterminado\n",
    "webbrowser.open(f'file://{temp_file_path}')"
   ]
  }
 ],
 "metadata": {
  "kernelspec": {
   "display_name": "Python 3",
   "language": "python",
   "name": "python3"
  },
  "language_info": {
   "codemirror_mode": {
    "name": "ipython",
    "version": 3
   },
   "file_extension": ".py",
   "mimetype": "text/x-python",
   "name": "python",
   "nbconvert_exporter": "python",
   "pygments_lexer": "ipython3",
   "version": "3.10.5"
  }
 },
 "nbformat": 4,
 "nbformat_minor": 2
}
