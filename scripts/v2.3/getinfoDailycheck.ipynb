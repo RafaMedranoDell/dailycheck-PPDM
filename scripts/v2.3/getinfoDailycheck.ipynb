{
 "cells": [
  {
   "cell_type": "code",
   "execution_count": 1,
   "metadata": {},
   "outputs": [],
   "source": [
    "import os\n",
    "import requests\n",
    "import json\n",
    "import urllib3\n",
    "from datetime import datetime, timedelta\n",
    "from password_manager import PasswordManager"
   ]
  },
  {
   "cell_type": "code",
   "execution_count": 2,
   "metadata": {},
   "outputs": [],
   "source": [
    "# deshabilitar la advertencia de InsecureRequestWarning\n",
    "urllib3.disable_warnings(urllib3.exceptions.InsecureRequestWarning)"
   ]
  },
  {
   "cell_type": "code",
   "execution_count": 3,
   "metadata": {},
   "outputs": [],
   "source": [
    "#Definicion de Variables\n",
    "config_file = \"config_encrypted.json\""
   ]
  },
  {
   "cell_type": "code",
   "execution_count": 4,
   "metadata": {},
   "outputs": [],
   "source": [
    "# Funcion para leer configuracion desde JSON\n",
    "def load_config(config_file):\n",
    "    with open(config_file, \"r\") as file:\n",
    "        return json.load(file)"
   ]
  },
  {
   "cell_type": "markdown",
   "metadata": {},
   "source": [
    "### FUNCIONES PARA FILTRAR POR FECHA ###"
   ]
  },
  {
   "cell_type": "code",
   "execution_count": 5,
   "metadata": {},
   "outputs": [],
   "source": [
    "def get_current_time():\n",
    "    return datetime.utcnow().strftime('%Y-%m-%dT%H:%M:%SZ')"
   ]
  },
  {
   "cell_type": "code",
   "execution_count": 6,
   "metadata": {},
   "outputs": [],
   "source": [
    "def get_24_hours_ago():\n",
    "    now = datetime.utcnow()\n",
    "    twenty_four_hours_ago = now - timedelta(hours=24)\n",
    "    return twenty_four_hours_ago.strftime(\"%Y-%m-%dT%H:%M:%SZ\")"
   ]
  },
  {
   "cell_type": "markdown",
   "metadata": {},
   "source": [
    "### FUNCION \"get_filtered_results\" ###\n",
    "Función Auxiliar: Maneja la paginacion y aplica los filtros necesarios a los resultados obtenidos"
   ]
  },
  {
   "cell_type": "code",
   "execution_count": null,
   "metadata": {},
   "outputs": [],
   "source": [
    "def get_filtered_results(url, headers, params, fields):\n",
    "    all_filtered_results = []\n",
    "    page = 1\n",
    "    total_pages = None\n",
    "\n",
    "    while total_pages is None or page <= total_pages:\n",
    "        response_data = requests.get(f\"{url}?page={page}\", headers=headers, params=params, verify=False)\n",
    "        response_data_json = response_data.json()\n",
    "\n",
    "        if response_data.status_code != 200:\n",
    "            print(f\"Error: {response_data.status_code}\")\n",
    "            print(response_data.text)  # Detalles del error\n",
    "            break\n",
    "\n",
    "        if total_pages is None:\n",
    "            total_pages = response_data_json['page']['totalPages']\n",
    "            print(\"TOTAL PAGES: \", total_pages)\n",
    "        \n",
    "        print(f\"PAGE NUMBER: {page}\")\n",
    "\n",
    "        content_entries = response_data_json.get('content', [])\n",
    "        filtered_results = filter_entries(content_entries, fields)\n",
    "        all_filtered_results.extend(filtered_results)\n",
    "\n",
    "        page += 1  # Incrementar la pgina para la siguiente iteracin\n",
    "\n",
    "    return all_filtered_results"
   ]
  },
  {
   "cell_type": "markdown",
   "metadata": {},
   "source": [
    "### FUNCION \"get_value_from_nested_keys\" y \"filter_entries\" ###\n",
    "recorre un diccionario anidado para obtener el valor correspondiente a una lista de claves.\n"
   ]
  },
  {
   "cell_type": "code",
   "execution_count": 8,
   "metadata": {},
   "outputs": [],
   "source": [
    "def get_value_from_nested_keys(data, keys):\n",
    "    for key in keys:\n",
    "        if not isinstance(data, dict):\n",
    "            return None\n",
    "        data = data.get(key)\n",
    "    return data"
   ]
  },
  {
   "cell_type": "markdown",
   "metadata": {},
   "source": [
    "### FUNCION \"filter_entries\" ###\n",
    "toma una lista de diccionarios anidados y aplanara cada uno de estos diccionarios segun los campos especificados en fields. \n",
    "Cada campo a extraer puede ser especificado con su ruta completa, y el valor correspondiente sera almacenado en el diccionario resultante usando el nombre de campo completo."
   ]
  },
  {
   "cell_type": "code",
   "execution_count": 9,
   "metadata": {},
   "outputs": [],
   "source": [
    "def filter_entries(entries, fields):\n",
    "    filtered_results = []\n",
    "    for entry in entries:\n",
    "        filtered_entry = {}\n",
    "        for field in fields:\n",
    "            keys = field.split('.')\n",
    "            value = get_value_from_nested_keys(entry, keys)\n",
    "            filtered_entry[field] = value\n",
    "        filtered_results.append(filtered_entry)\n",
    "    return filtered_results"
   ]
  },
  {
   "cell_type": "markdown",
   "metadata": {},
   "source": [
    "# LLAMADAS PPDM #"
   ]
  },
  {
   "cell_type": "markdown",
   "metadata": {},
   "source": [
    "### FUNCION PARA OBTENER TOKEN ###"
   ]
  },
  {
   "cell_type": "code",
   "execution_count": null,
   "metadata": {},
   "outputs": [],
   "source": [
    "#Funcion para obtener el token\n",
    "def get_token_PPDM(instance,username, encrypted_password):\n",
    "    url = f'https://{instance}:8443/api/v2/login'\n",
    "    headers = {\n",
    "        'Content-Type': 'application/json'\n",
    "    }\n",
    "\n",
    "    # Crear instancia de PasswordManager y desencriptar la contraseña\n",
    "    password_manager = PasswordManager()\n",
    "    password = password_manager.decrypt_password(encrypted_password)\n",
    "\n",
    "    data = {\n",
    "        \"username\": username,\n",
    "        \"password\": password\n",
    "    }\n",
    "\n",
    "    response = requests.post(url, headers=headers, data=json.dumps(data), verify=False)\n",
    "\n",
    "    if response.status_code == 200:\n",
    "        response_json = response.json()\n",
    "        access_token = response_json.get('access_token')\n",
    "        refresh_token = response_json.get('refresh_token')\n",
    "        return access_token, refresh_token\n",
    "    else:\n",
    "        print(f\"Error: {response.status_code}\")\n",
    "    return None, None"
   ]
  },
  {
   "cell_type": "markdown",
   "metadata": {},
   "source": [
    "### FUNCION \"get_Activities_no_ok\" ###"
   ]
  },
  {
   "cell_type": "code",
   "execution_count": 11,
   "metadata": {},
   "outputs": [],
   "source": [
    "def get_activities_not_ok(instance, access_token, today, twenty_four_hours_ago):\n",
    "    url = f'https://{instance}:8443/api/v2/activities'\n",
    "    headers = {\n",
    "        'Authorization': access_token\n",
    "    }\n",
    "    filter_expression = (\n",
    "        f'createTime ge \"{twenty_four_hours_ago}\" and createTime lt \"{today}\" '\n",
    "        f'and result.status ne \"OK\" '\n",
    "        f'and protectionPolicy.name ne null '\n",
    "        f'and result.error.code ne null'\n",
    "    )\n",
    "    params = {\n",
    "        'filter': filter_expression\n",
    "    }\n",
    "    fields = [\n",
    "        \"category\",\n",
    "        \"classType\",\n",
    "        \"result.status\",\n",
    "        \"result.error.code\",\n",
    "        \"result.error.detailedDescription\",\n",
    "        \"result.error.extendedReason\",\n",
    "        \"result.error.reason\",\n",
    "        \"result.error.remediation\",\n",
    "        \"asset.name\",\n",
    "        \"asset.type\",\n",
    "        \"host.name\",\n",
    "        \"host.type\",\n",
    "        \"inventorySource.type\",\n",
    "        \"protectionPolicy.name\",\n",
    "        \"protectionPolicy.type\",\n",
    "        \"createTime\",\n",
    "        \"endTime\"\n",
    "    ]\n",
    "    return get_filtered_results(url, headers, params, fields)"
   ]
  },
  {
   "cell_type": "markdown",
   "metadata": {},
   "source": [
    "### FUNCION \"get_job_group_activities\" ###"
   ]
  },
  {
   "cell_type": "code",
   "execution_count": 12,
   "metadata": {},
   "outputs": [],
   "source": [
    "def get_job_group_activities(instance, access_token, today, twenty_four_hours_ago):\n",
    "    url = f'https://{instance}:8443/api/v2/activities'\n",
    "    headers = {\n",
    "        'Authorization': access_token\n",
    "    }\n",
    "    filter_expression = (\n",
    "        f'createTime ge \"{twenty_four_hours_ago}\" and createTime lt \"{today}\" and classType eq \"JOB_GROUP\"'\n",
    "    )\n",
    "    params = {\n",
    "        'filter': filter_expression\n",
    "    }\n",
    "    fields = [\n",
    "        \"category\",\n",
    "        \"classType\",\n",
    "        \"result.status\",\n",
    "        \"createTime\",\n",
    "        \"endTime\"\n",
    "    ]\n",
    "    return get_filtered_results(url, headers, params, fields)"
   ]
  },
  {
   "cell_type": "markdown",
   "metadata": {},
   "source": [
    "### FUNCION \"get_health_issues\" ###"
   ]
  },
  {
   "cell_type": "code",
   "execution_count": null,
   "metadata": {},
   "outputs": [],
   "source": [
    "def get_health_issues(instance,access_token):\n",
    "    url = f'https://{instance}:8443/api/v2/system-health-issues'\n",
    "    headers = {\n",
    "        'Authorization': access_token\n",
    "    }\n",
    "    params = {}  # No especificaste filtros, dejando vaco\n",
    "    fields = [\n",
    "        \"healthCategory\",\n",
    "        \"severity\",\n",
    "        \"scoreDeduction\",\n",
    "        \"componentType\",\n",
    "        \"componentName\",\n",
    "        \"messageID\",\n",
    "        \"detailedDescription\",\n",
    "        \"responseAction\"\n",
    "    ]\n",
    "    return get_filtered_results(url, headers, params, fields)\n"
   ]
  },
  {
   "cell_type": "markdown",
   "metadata": {},
   "source": [
    "### FUNCION \"get_storage_systems\" ###"
   ]
  },
  {
   "cell_type": "code",
   "execution_count": null,
   "metadata": {},
   "outputs": [],
   "source": [
    "def get_storage_systems(instance,access_token):\n",
    "    url = f'https://{instance}:8443/api/v2/storage-systems'\n",
    "    headers = {\n",
    "        'Authorization': access_token\n",
    "    }\n",
    "    params = {}  # No especificaste filtros, dejando vaco\n",
    "    fields = {}\n",
    "\n",
    "    return get_filtered_results(url, headers, params, fields)"
   ]
  },
  {
   "cell_type": "markdown",
   "metadata": {},
   "source": [
    "### FUNCION \"save_results_to_json\" ###"
   ]
  },
  {
   "cell_type": "code",
   "execution_count": 14,
   "metadata": {},
   "outputs": [],
   "source": [
    "def save_results_to_json(filename, data):\n",
    "    with open(filename, 'w') as f:\n",
    "        json.dump(data, f, indent=4)"
   ]
  },
  {
   "cell_type": "code",
   "execution_count": null,
   "metadata": {},
   "outputs": [],
   "source": [
    "# Guardar los datos en un archivo JSON\n",
    "def save_json(data, system, instance, query_name, base_path):\n",
    "    output_file = os.path.join(base_path, f\"{system}-{instance}-{query_name}\")\n",
    "    with open(output_file, \"w\") as file:\n",
    "        json.dump(data, file, indent=4)\n",
    "    print(f\"Datos guardados en: {output_file}\")"
   ]
  },
  {
   "cell_type": "markdown",
   "metadata": {},
   "source": [
    "### LLAMADAS A FUNCIONES ###"
   ]
  },
  {
   "cell_type": "code",
   "execution_count": 16,
   "metadata": {},
   "outputs": [],
   "source": [
    "def main():\n",
    "    config = load_config(config_file)\n",
    "    base_path = config[\"basePath\"]  # Obtener la ruta base desde el archivo de configuración\n",
    "\n",
    "    for system, system_data in config[\"systems\"].items():\n",
    "        json_files = system_data[\"files\"][\"json\"]  # Obtener los nombres de los archivos JSON del sistema\n",
    "        for instance_info in system_data[\"instances\"]:\n",
    "            instance = instance_info[\"hostname\"]\n",
    "            username = instance_info[\"username\"]            \n",
    "            # Cambiar password por encrypted_password\n",
    "            encrypted_password = instance_info[\"encrypted_password\"]\n",
    "            print(f'{instance} {username} {encrypted_password}')\n",
    "\n",
    "            if system == \"PPDM\":\n",
    "                # Obtener token de autenticación\n",
    "                access_token, _ = get_token_PPDM(instance, username, encrypted_password)\n",
    "                print(system)\n",
    "                print(system, instance, access_token)\n",
    "\n",
    "                if not access_token:\n",
    "                    print(f\"Error: no se pudo obtener el token para {instance}.\")\n",
    "                    continue\n",
    "\n",
    "                today = get_current_time()\n",
    "                twenty_four_hours_ago = get_24_hours_ago()\n",
    "\n",
    "                print(\"Fetching health issues...\")\n",
    "                data = get_health_issues(instance, access_token)\n",
    "                #print(\"Filtered results for health issues:\", health_issues)\n",
    "                save_json(data, system, instance, json_files[\"systemHealthIssues\"], base_path)\n",
    "                #print(\"Saved health issues to health_issues.json\")\n",
    "\n",
    "                print(\"Fetching job group activities...\")\n",
    "                data = get_job_group_activities(instance, access_token, today, twenty_four_hours_ago)\n",
    "                #print(\"Filtered results for job group activities:\", job_group_activities)\n",
    "                save_json(data, system, instance, json_files[\"jobGroupActivitiesSummary\"], base_path)\n",
    "                #print(f'Saved {instance} JOB_GROUP activities to json file')\n",
    "\n",
    "                print(\"Fetching activities that are not OK...\")\n",
    "                data = get_activities_not_ok(instance, access_token, today, twenty_four_hours_ago)\n",
    "                #print(\"Filtered results for activities not OK:\", not_ok_activities)\n",
    "                #save_results_to_json('activitiesNoOK.json', not_ok_activities)\n",
    "                save_json(data, system, instance, json_files[\"activitiesNotOK\"], base_path)\n",
    "                #print(\"Saved not OK activities to activitiesNoOK.json\")\n",
    "\n",
    "    "
   ]
  },
  {
   "cell_type": "code",
   "execution_count": 17,
   "metadata": {},
   "outputs": [
    {
     "name": "stdout",
     "output_type": "stream",
     "text": [
      "PPDM-01 DCOapi gAAAAABnPLHvAGDOzFFhAXHjYim13IRh6uitTqwkC--J600-GzNE9hSNpAIM7SsAaH6xWLKkacWpeL3-6ptrchkVKc9F0ftF3g==\n",
      "PPDM\n",
      "PPDM PPDM-01 eyJraWQiOiI4MjQ2MDlkNi00YjE0LTRjYjctOWY5NS01ZTZlYmU0YWRlYmMiLCJhbGciOiJFUzI1NiJ9.eyJqdGkiOiI2OTk5OWZiOC1hMmY4LTQ1MzAtOTY4ZS1jZWI1ZGI1NmI2MWIiLCJpc3MiOiJlQ0RNIEFBQSBTZXJ2aWNlIiwiaWF0IjoxNzMyMDM0NjAzLCJleHAiOjE3MzIwMzU1MDMsImV4dCI6eyJzeXN0ZW0iOnsicm9sZSI6WyJyZWFkb25seSJdfSwiYXVkaXQiOnsidWlkIjoiMDBkMzQzNzMtYzJhNS00OTdiLTljYzItMjhkMTU0YTQ3MjY0In19LCJzdWIiOiJEQ09hcGkiLCJhdXRob3JpemF0aW9uLXRva2VuLWJpdG1hcCI6eyJ1c2VybmFtZSI6IkRDT2FwaSIsImF1dGhlbnRpY2F0ZWQiOnRydWUsImlkIjoiMDBkMzQzNzMtYzJhNS00OTdiLTljYzItMjhkMTU0YTQ3MjY0IiwidXNlclR5cGUiOiJMT0NBTCIsInRpbWVzdGFtcCI6MCwiY3JlYXRpb25UaW1lIjowLCJ0ZW5hbnRTY29wZSI6Ii8wMDAwMDAwMC0wMDAwLTQwMDAtYjAwMC0wMDAwMDAwMDAwMDAvMDAwMDAwMDAtMDAwMC00MDAwLWEwMDAtMDAwMDAwMDAwMDAwIiwiYXV0aG9yaXRpZXMiOlt7InRlbmFudHMiOlsiMDAwMDAwMDAtMDAwMC00MDAwLWIwMDAtMDAwMDAwMDAwMDAwIl0sInByaXZpbGVnZXMiOlsiLTkwNzg2NTc0MzE2OTIwNzcxNzEiLCIwIl0sInJvbGVzIjpbIjJiYzk4NzUwLTc2NzUtMDEzNi0yOWU5LTViYmQzY2U3MjliMCJdfV0sImdyb3VwcyI6W119LCJydGkiOiJiYmMwMTIxZC1mY2FlLTQzOGYtYjU2NS1mNTlkYWNlMDdjZDUifQ.Gmq2Q5FrW3IXBE60mM9tsAseMvIaaNgvdqgoh_Z-05XB-gL_miE5YzNjkHE4twR6QEAJ3eglHofTaISzpdULhg\n",
      "Fetching health issues...\n",
      "TOTAL PAGES:  1\n",
      "PAGE NUMBER: 1\n"
     ]
    },
    {
     "ename": "AttributeError",
     "evalue": "'str' object has no attribute 'removesuffix'",
     "output_type": "error",
     "traceback": [
      "\u001b[1;31m---------------------------------------------------------------------------\u001b[0m",
      "\u001b[1;31mAttributeError\u001b[0m                            Traceback (most recent call last)",
      "Cell \u001b[1;32mIn[17], line 2\u001b[0m\n\u001b[0;32m      1\u001b[0m \u001b[38;5;28;01mif\u001b[39;00m \u001b[38;5;18m__name__\u001b[39m \u001b[38;5;241m==\u001b[39m \u001b[38;5;124m\"\u001b[39m\u001b[38;5;124m__main__\u001b[39m\u001b[38;5;124m\"\u001b[39m:\n\u001b[1;32m----> 2\u001b[0m     \u001b[43mmain\u001b[49m\u001b[43m(\u001b[49m\u001b[43m)\u001b[49m\n",
      "Cell \u001b[1;32mIn[16], line 30\u001b[0m, in \u001b[0;36mmain\u001b[1;34m()\u001b[0m\n\u001b[0;32m     28\u001b[0m data \u001b[38;5;241m=\u001b[39m get_health_issues(instance, access_token)\n\u001b[0;32m     29\u001b[0m \u001b[38;5;66;03m#print(\"Filtered results for health issues:\", health_issues)\u001b[39;00m\n\u001b[1;32m---> 30\u001b[0m \u001b[43msave_json\u001b[49m\u001b[43m(\u001b[49m\u001b[43mdata\u001b[49m\u001b[43m,\u001b[49m\u001b[43m \u001b[49m\u001b[43msystem\u001b[49m\u001b[43m,\u001b[49m\u001b[43m \u001b[49m\u001b[43minstance\u001b[49m\u001b[43m,\u001b[49m\u001b[43m \u001b[49m\u001b[43mjson_files\u001b[49m\u001b[43m[\u001b[49m\u001b[38;5;124;43m\"\u001b[39;49m\u001b[38;5;124;43msystemHealthIssues\u001b[39;49m\u001b[38;5;124;43m\"\u001b[39;49m\u001b[43m]\u001b[49m\u001b[43m,\u001b[49m\u001b[43m \u001b[49m\u001b[43mbase_path\u001b[49m\u001b[43m)\u001b[49m\n\u001b[0;32m     31\u001b[0m \u001b[38;5;66;03m#print(\"Saved health issues to health_issues.json\")\u001b[39;00m\n\u001b[0;32m     33\u001b[0m \u001b[38;5;28mprint\u001b[39m(\u001b[38;5;124m\"\u001b[39m\u001b[38;5;124mFetching job group activities...\u001b[39m\u001b[38;5;124m\"\u001b[39m)\n",
      "Cell \u001b[1;32mIn[15], line 3\u001b[0m, in \u001b[0;36msave_json\u001b[1;34m(data, system, instance, query_name, base_path)\u001b[0m\n\u001b[0;32m      2\u001b[0m \u001b[38;5;28;01mdef\u001b[39;00m \u001b[38;5;21msave_json\u001b[39m(data, system, instance, query_name, base_path):\n\u001b[1;32m----> 3\u001b[0m     query_name \u001b[38;5;241m=\u001b[39m \u001b[43mquery_name\u001b[49m\u001b[38;5;241;43m.\u001b[39;49m\u001b[43mremovesuffix\u001b[49m(\u001b[38;5;124m'\u001b[39m\u001b[38;5;124m.json\u001b[39m\u001b[38;5;124m'\u001b[39m)\n\u001b[0;32m      4\u001b[0m     output_file \u001b[38;5;241m=\u001b[39m os\u001b[38;5;241m.\u001b[39mpath\u001b[38;5;241m.\u001b[39mjoin(base_path, \u001b[38;5;124mf\u001b[39m\u001b[38;5;124m\"\u001b[39m\u001b[38;5;132;01m{\u001b[39;00msystem\u001b[38;5;132;01m}\u001b[39;00m\u001b[38;5;124m-\u001b[39m\u001b[38;5;132;01m{\u001b[39;00minstance\u001b[38;5;132;01m}\u001b[39;00m\u001b[38;5;124m-\u001b[39m\u001b[38;5;132;01m{\u001b[39;00mquery_name\u001b[38;5;132;01m}\u001b[39;00m\u001b[38;5;124m.json\u001b[39m\u001b[38;5;124m\"\u001b[39m)\n\u001b[0;32m      5\u001b[0m     \u001b[38;5;28;01mwith\u001b[39;00m \u001b[38;5;28mopen\u001b[39m(output_file, \u001b[38;5;124m\"\u001b[39m\u001b[38;5;124mw\u001b[39m\u001b[38;5;124m\"\u001b[39m) \u001b[38;5;28;01mas\u001b[39;00m file:\n",
      "\u001b[1;31mAttributeError\u001b[0m: 'str' object has no attribute 'removesuffix'"
     ]
    }
   ],
   "source": [
    "if __name__ == \"__main__\":\n",
    "    main()"
   ]
  }
 ],
 "metadata": {
  "kernelspec": {
   "display_name": "Python 3",
   "language": "python",
   "name": "python3"
  },
  "language_info": {
   "codemirror_mode": {
    "name": "ipython",
    "version": 3
   },
   "file_extension": ".py",
   "mimetype": "text/x-python",
   "name": "python",
   "nbconvert_exporter": "python",
   "pygments_lexer": "ipython3",
   "version": "3.8.5"
  }
 },
 "nbformat": 4,
 "nbformat_minor": 2
}
