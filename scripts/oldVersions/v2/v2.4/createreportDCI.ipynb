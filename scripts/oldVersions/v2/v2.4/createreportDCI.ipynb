{
 "cells": [
  {
   "cell_type": "code",
   "execution_count": 1,
   "metadata": {},
   "outputs": [],
   "source": [
    "import os\n",
    "import pandas as pd\n",
    "import webbrowser\n",
    "import tempfile\n",
    "import json\n",
    "import glob\n",
    "import smtplib\n",
    "from email.mime.multipart import MIMEMultipart\n",
    "from email.mime.text import MIMEText"
   ]
  },
  {
   "cell_type": "code",
   "execution_count": 2,
   "metadata": {},
   "outputs": [],
   "source": [
    "# Leer el archivo de configuración\n",
    "with open(\"config_encrypted.json\") as config_file:\n",
    "    config = json.load(config_file)"
   ]
  },
  {
   "cell_type": "code",
   "execution_count": 3,
   "metadata": {},
   "outputs": [],
   "source": [
    "# Definir la función para colorear las celdas en la columna \"severity\" con tonos pastel\n",
    "def color_severity(val):\n",
    "    if val == 'LOW':\n",
    "        return 'background-color: #ffd9b3 !important; color: #b35900 !important'  # Naranja pastel\n",
    "    elif val == 'MEDIUM':\n",
    "        return 'background-color: #fff2b3 !important; color: #7a7a00 !important'  # Amarillo pastel\n",
    "    elif val == 'HIGH':\n",
    "        return 'background-color: #f7b3b3 !important; color: #a10000 !important'  # Rojo pastel\n",
    "    return ''"
   ]
  },
  {
   "cell_type": "code",
   "execution_count": 4,
   "metadata": {},
   "outputs": [],
   "source": [
    "# CSS mejorado para compatibilidad con Outlook\n",
    "table_style = \"\"\"\n",
    "<style>\n",
    "    /* Reset de estilos para Outlook */\n",
    "    table {\n",
    "        border-collapse: collapse !important;\n",
    "        width: 100% !important;\n",
    "        margin-bottom: 20px !important;\n",
    "        mso-table-lspace: 0pt !important;\n",
    "        mso-table-rspace: 0pt !important;\n",
    "        font-family: Arial, sans-serif !important;\n",
    "        font-size: 11px !important;\n",
    "    }\n",
    "    th, td {\n",
    "        border: 1px solid #ddd !important;\n",
    "        padding: 2px 4px !important;\n",
    "        text-align: left !important;\n",
    "        font-size: 11px !important;\n",
    "        mso-line-height-rule: exactly !important;\n",
    "        line-height: 1.2 !important;\n",
    "        height: 16px !important;\n",
    "    }\n",
    "    th {\n",
    "        background-color: #cccccc !important;\n",
    "        color: white !important;\n",
    "        font-weight: bold !important;\n",
    "        height: 18px !important;\n",
    "    }\n",
    "    tr {\n",
    "        height: 16px !important;\n",
    "    }\n",
    "    tr:nth-child(even) {\n",
    "        background-color: #f2f2f2 !important;\n",
    "    }\n",
    "    /* Clase específica para las tablas de datos */\n",
    "    .data-table {\n",
    "        margin: 0 !important;\n",
    "        padding: 0 !important;\n",
    "    }\n",
    "    .data-table td {\n",
    "        height: 16px !important;\n",
    "        max-height: 16px !important;\n",
    "        overflow: hidden !important;\n",
    "        white-space: nowrap !important;\n",
    "    }\n",
    "    /* Contenedor de tabla para layout */\n",
    "    .section-container {\n",
    "        width: 100% !important;\n",
    "        margin-bottom: 20px !important;\n",
    "    }\n",
    "</style>\n",
    "\"\"\""
   ]
  },
  {
   "cell_type": "code",
   "execution_count": 5,
   "metadata": {},
   "outputs": [],
   "source": [
    "# Función para cargar y aplicar estilo a los datos de Health Events\n",
    "def load_and_style_health_events(system, hostname, config):\n",
    "    base_path = config['basePath']\n",
    "    csv_relative_path = config['csvPath']\n",
    "    csvPath= os.path.join(base_path, csv_relative_path)\n",
    "    csv_files = config['systems'][system]['files']['csv']\n",
    "\n",
    "    health_event_files = glob.glob(f\"{csvPath}/{system}-{hostname}-{csv_files['healthEvents']}\")\n",
    "    \n",
    "    html_health_events = \"\"\n",
    "    \n",
    "    for health_event_file in health_event_files:\n",
    "        df_health_events = pd.read_csv(health_event_file)\n",
    "        styled_health_events = df_health_events.style.applymap(color_severity, subset=['severity'])\n",
    "        html_health_events += styled_health_events.to_html(classes='data-table')\n",
    "    \n",
    "    return html_health_events"
   ]
  },
  {
   "cell_type": "code",
   "execution_count": 6,
   "metadata": {},
   "outputs": [],
   "source": [
    "# Función para cargar y aplicar estilo a los datos de Summary Jobs Skipped\n",
    "def load_and_style_summary_jobs_skipped(system, hostname, config):\n",
    "    base_path = config['basePath']\n",
    "    csv_relative_path = config['csvPath']\n",
    "    csvPath= os.path.join(base_path, csv_relative_path)\n",
    "    csv_files = config['systems'][system]['files']['csv']\n",
    "\n",
    "    summary_jobs_skipped_files = glob.glob(f\"{csvPath}/{system}-{hostname}-{csv_files['summaryJobsSkipped']}\")\n",
    "    \n",
    "    html_summary_jobs_skipped = \"\"\n",
    "    \n",
    "    for summary_jobs_skipped_file in summary_jobs_skipped_files:\n",
    "        df_summary_jobs_skipped = pd.read_csv(summary_jobs_skipped_file)\n",
    "        html_summary_jobs_skipped += df_summary_jobs_skipped.to_html(classes='data-table')\n",
    "    \n",
    "    return html_summary_jobs_skipped"
   ]
  },
  {
   "cell_type": "code",
   "execution_count": 7,
   "metadata": {},
   "outputs": [],
   "source": [
    "# Función para cargar y aplicar estilo a los datos de Unique Errors No Skipped\n",
    "def load_and_style_unique_errors_no_skipped(system, hostname, config):\n",
    "    base_path = config.get('basePath', '')\n",
    "    csv_files = config['systems'][system]['files']['csv']\n",
    "    unique_errors_no_skipped_files = glob.glob(f\"{base_path}/{system}-{hostname}-{csv_files['uniqueErrorsNoSkipped']}\")\n",
    "    \n",
    "    html_unique_errors_no_skipped = \"\"\n",
    "    \n",
    "    for unique_errors_no_skipped_file in unique_errors_no_skipped_files:\n",
    "        df_unique_errors_no_skipped = pd.read_csv(unique_errors_no_skipped_file)\n",
    "        html_unique_errors_no_skipped += df_unique_errors_no_skipped.to_html(classes='data-table')\n",
    "    \n",
    "    return html_unique_errors_no_skipped"
   ]
  },
  {
   "cell_type": "code",
   "execution_count": 8,
   "metadata": {},
   "outputs": [],
   "source": [
    "# HTML mejorado con soporte para Outlook\n",
    "html_body = f\"\"\"\n",
    "<html xmlns:v=\"urn:schemas-microsoft-com:vml\" xmlns:o=\"urn:schemas-microsoft-com:office:office\" xmlns:w=\"urn:schemas-microsoft-com:office:word\" xmlns:m=\"http://schemas.microsoft.com/office/2004/12/omml\" xmlns=\"http://www.w3.org/TR/REC-html40\">\n",
    "    <head>\n",
    "        {table_style}\n",
    "        <!--[if gte mso 9]>\n",
    "        <xml>\n",
    "            <o:OfficeDocumentSettings>\n",
    "                <o:AllowPNG/>\n",
    "                <o:PixelsPerInch>96</o:PixelsPerInch>\n",
    "            </o:OfficeDocumentSettings>\n",
    "        </xml>\n",
    "        <![endif]-->\n",
    "    </head>\n",
    "    <body style=\"margin: 0; padding: 0; font-family: Arial, sans-serif;\">\n",
    "        <div style=\"width: 100%; max-width: 1200px; margin: 0 auto;\">\n",
    "            <h2 style=\"font-family: Arial, sans-serif; color: #0044cc; margin-bottom: 10px;\">DAILY INVESTIGATION PPDM - Health Events</h2>\n",
    "\"\"\""
   ]
  },
  {
   "cell_type": "code",
   "execution_count": 9,
   "metadata": {},
   "outputs": [],
   "source": [
    "# Iterar sobre los sistemas y hostnames\n",
    "for system, system_config in config[\"systems\"].items():\n",
    "    for instance_config in system_config['instances']:\n",
    "        hostname = instance_config[\"hostname\"]\n",
    "        \n",
    "        # Cargar datos\n",
    "        html_health_events = load_and_style_health_events(system, hostname, config)\n",
    "        html_summary_jobs_skipped = load_and_style_summary_jobs_skipped(system, hostname, config)\n",
    "        html_unique_errors_no_skipped = load_and_style_unique_errors_no_skipped(system, hostname, config)\n",
    "        \n",
    "        html_body += f\"\"\"\n",
    "        <div class=\"section-container\">\n",
    "            <h3 style=\"font-family: Arial, sans-serif; color: #0066cc; margin: 10px 0;\">Hostname: {hostname}</h3>\n",
    "            \n",
    "            <div style=\"margin-bottom: 15px;\">\n",
    "                <p style=\"font-family: Arial, sans-serif; font-weight: bold; text-decoration: underline; color: #333; margin: 5px 0;\">\n",
    "                    Health Events\n",
    "                </p>\n",
    "                {html_health_events}\n",
    "            </div>\n",
    "\n",
    "            <div style=\"margin-bottom: 15px;\">\n",
    "                <p style=\"font-family: Arial, sans-serif; font-weight: bold; text-decoration: underline; color: #333; margin: 5px 0;\">\n",
    "                    Summary Jobs Skipped\n",
    "                </p>\n",
    "                {html_summary_jobs_skipped}\n",
    "            </div>\n",
    "\n",
    "            <div style=\"margin-bottom: 15px;\">\n",
    "                <p style=\"font-family: Arial, sans-serif; font-weight: bold; text-decoration: underline; color: #333; margin: 5px 0;\">\n",
    "                    Unsuccessful nor Skipped Jobs\n",
    "                </p>\n",
    "                {html_unique_errors_no_skipped}\n",
    "            </div>\n",
    "        </div>\n",
    "        \"\"\""
   ]
  },
  {
   "cell_type": "code",
   "execution_count": 10,
   "metadata": {},
   "outputs": [],
   "source": [
    "# Finalizar el HTML\n",
    "html_body += \"\"\"\n",
    "        </div>\n",
    "    </body>\n",
    "</html>\n",
    "\"\"\""
   ]
  },
  {
   "cell_type": "code",
   "execution_count": 11,
   "metadata": {},
   "outputs": [],
   "source": [
    "# Guardar el HTML en un archivo temporal y abrirlo en el navegador\n",
    "with tempfile.NamedTemporaryFile('w', delete=False, suffix='.html') as f:\n",
    "    f.write(html_body)\n",
    "    temp_file_path = f.name"
   ]
  },
  {
   "cell_type": "code",
   "execution_count": 12,
   "metadata": {},
   "outputs": [
    {
     "data": {
      "text/plain": [
       "True"
      ]
     },
     "execution_count": 12,
     "metadata": {},
     "output_type": "execute_result"
    }
   ],
   "source": [
    "# Abrir el archivo en el navegador predeterminado\n",
    "webbrowser.open(f'file://{temp_file_path}')"
   ]
  }
 ],
 "metadata": {
  "kernelspec": {
   "display_name": "Python 3",
   "language": "python",
   "name": "python3"
  },
  "language_info": {
   "codemirror_mode": {
    "name": "ipython",
    "version": 3
   },
   "file_extension": ".py",
   "mimetype": "text/x-python",
   "name": "python",
   "nbconvert_exporter": "python",
   "pygments_lexer": "ipython3",
   "version": "3.8.5"
  }
 },
 "nbformat": 4,
 "nbformat_minor": 2
}
