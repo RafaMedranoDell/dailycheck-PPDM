{
 "cells": [
  {
   "cell_type": "code",
   "execution_count": 1,
   "metadata": {},
   "outputs": [],
   "source": [
    "import json\n",
    "import requests\n",
    "from datetime import datetime, timedelta"
   ]
  },
  {
   "cell_type": "code",
   "execution_count": 2,
   "metadata": {},
   "outputs": [],
   "source": [
    "config_file = \"config.json\""
   ]
  },
  {
   "cell_type": "code",
   "execution_count": 3,
   "metadata": {},
   "outputs": [],
   "source": [
    "# Funcion para leer configuracion desde JSON\n",
    "def load_config(config_file):\n",
    "    with open(config_file, \"r\") as file:\n",
    "        return json.load(file)"
   ]
  },
  {
   "cell_type": "code",
   "execution_count": 4,
   "metadata": {},
   "outputs": [],
   "source": [
    "# Función para calcular fechas de filtro\n",
    "def calculate_date_filters():\n",
    "    now = datetime.utcnow()\n",
    "    twenty_four_hours_ago = now - timedelta(hours=24)\n",
    "    return {\n",
    "        \"now\": now.strftime(\"%Y-%m-%dT%H:%M:%SZ\"),\n",
    "        \"24_hours_ago\": twenty_four_hours_ago.strftime(\"%Y-%m-%dT%H:%M:%SZ\")\n",
    "    }"
   ]
  },
  {
   "cell_type": "code",
   "execution_count": 5,
   "metadata": {},
   "outputs": [],
   "source": [
    "# Función para obtener el token de autenticación\n",
    "def get_token_PPDM (ppdm_instance):\n",
    "    url = f'https://{ppdm_instance}:8443/api/v2/login'\n",
    "    headers = {\n",
    "        'Content-Type': 'application/json'\n",
    "    }\n",
    "\n",
    "    # Credenciales desde variables de entorno\n",
    "    data = {\n",
    "        username : 'DCOapi',\n",
    "        password : 'Password123!'\n",
    "    }\n",
    "\n",
    "    try:\n",
    "        response = requests.post(url, headers=headers, data=json.dumps(data), verify=False)\n",
    "        if response.status_code == 200:\n",
    "            response_json = response.json()\n",
    "            access_token = response_json.get('access_token')\n",
    "            refresh_token = response_json.get('refresh_token')\n",
    "            return access_token, refresh_token\n",
    "        else:\n",
    "            print(f\"Error al obtener el token: {response.status_code}\")\n",
    "            return None, None\n",
    "    except requests.RequestException as e:\n",
    "        print(f\"Error en la solicitud de autenticación: {e}\")\n",
    "        return None, None"
   ]
  },
  {
   "cell_type": "code",
   "execution_count": 6,
   "metadata": {},
   "outputs": [],
   "source": [
    "# Construcción dinámica del endpoint con los filtros\n",
    "def prepare_endpoint(instance, base_url, filters, fields):\n",
    "    date_filters = calculate_date_filters()\n",
    "    filter_expression = filters[\"filter_expression\"].replace(\"24_hours_ago\", date_filters[\"24_hours_ago\"]).replace(\"now\", date_filters[\"now\"])\n",
    "    endpoint = f\"https://{instance}:8443{base_url}?filter_expression={filter_expression}&fields={','.join(fields)}\"\n",
    "    print(endpoint)\n",
    "    return endpoint"
   ]
  },
  {
   "cell_type": "code",
   "execution_count": 7,
   "metadata": {},
   "outputs": [],
   "source": [
    "# Función para hacer una llamada a la API\n",
    "def fetch_data(endpoint, headers):\n",
    "    response = requests.get(endpoint, headers=headers)\n",
    "    if response.status_code == 200:\n",
    "        return response.json()\n",
    "    else:\n",
    "        print(f\"Error al obtener datos de la API: {response.status_code}\")\n",
    "        return None"
   ]
  },
  {
   "cell_type": "code",
   "execution_count": 8,
   "metadata": {},
   "outputs": [],
   "source": [
    "# Función para guardar datos en JSON\n",
    "def save_json(data, system, instance, query_name):\n",
    "    output_file = f\"{system}-{instance}-{query_name}.json\"\n",
    "    with open(output_file, \"w\") as file:\n",
    "        json.dump(data, file, indent=4)\n",
    "    print(f\"Datos guardados en: {output_file}\")"
   ]
  },
  {
   "cell_type": "code",
   "execution_count": 9,
   "metadata": {},
   "outputs": [],
   "source": [
    "# Función auxiliar para procesar cada sistema y sus queries\n",
    "def process_endpoint(system, instance, endpoint_name, api_config):\n",
    "    base_url = api_config[\"endpoint\"]\n",
    "    headers = api_config.get(\"headers\", {})  # Headers como el \"Authorization\"\n",
    "    endpoint = prepare_endpoint(instance, base_url, api_config[\"filters\"], api_config[\"fields\"])\n",
    "    data = fetch_data(endpoint, headers)\n",
    "    \n",
    "    if data:\n",
    "        save_json(data, system, instance, endpoint_name)"
   ]
  },
  {
   "cell_type": "code",
   "execution_count": 15,
   "metadata": {},
   "outputs": [],
   "source": [
    "# Función principal\n",
    "def main():\n",
    "    print(config_file)\n",
    "    config = load_config()\n",
    "    print(config)\n",
    "\n",
    "    for system, instances in config[\"systems\"].items():\n",
    "        for instance in instances:\n",
    "            # Obtener token de autenticación\n",
    "            access_token, _ = get_token_PPDM(instance)\n",
    "            print(access_token)\n",
    "            if not access_token:\n",
    "                print(f\"Error: no se pudo obtener el token para {instance}.\")\n",
    "                continue\n",
    "\n",
    "            # Realizar llamadas según el sistema y guardar los resultados\n",
    "            if system == \"PPDM\":\n",
    "                data = fetch_activities_not_ok(instance)\n",
    "                if data:\n",
    "                    save_json(data, system, instance, \"activities_not_ok\")\n",
    "                \n",
    "                data = fetch_job_group_activities(instance)\n",
    "                if data:\n",
    "                    save_json(data, system, instance, \"job_group_activities\")\n",
    "                \n",
    "                # Obtener un token de autenticación para las llamadas que lo requieran\n",
    "                access_token = \"some_token_obtained_from_login\"  # Aquí debería ir la lógica para obtener el token\n",
    "                data = fetch_system_health_issues(instance, access_token)\n",
    "                if data:\n",
    "                    save_json(data, system, instance, \"system_health_issues\")\n",
    "            # Aquí se podrían añadir más sistemas según se necesiten"
   ]
  },
  {
   "cell_type": "code",
   "execution_count": 16,
   "metadata": {},
   "outputs": [
    {
     "name": "stdout",
     "output_type": "stream",
     "text": [
      "config.json\n"
     ]
    },
    {
     "ename": "TypeError",
     "evalue": "load_config() missing 1 required positional argument: 'config_file'",
     "output_type": "error",
     "traceback": [
      "\u001b[1;31m---------------------------------------------------------------------------\u001b[0m",
      "\u001b[1;31mTypeError\u001b[0m                                 Traceback (most recent call last)",
      "Cell \u001b[1;32mIn[16], line 2\u001b[0m\n\u001b[0;32m      1\u001b[0m \u001b[38;5;28;01mif\u001b[39;00m \u001b[38;5;18m__name__\u001b[39m \u001b[38;5;241m==\u001b[39m \u001b[38;5;124m\"\u001b[39m\u001b[38;5;124m__main__\u001b[39m\u001b[38;5;124m\"\u001b[39m:\n\u001b[1;32m----> 2\u001b[0m     \u001b[43mmain\u001b[49m\u001b[43m(\u001b[49m\u001b[43m)\u001b[49m\n",
      "Cell \u001b[1;32mIn[15], line 4\u001b[0m, in \u001b[0;36mmain\u001b[1;34m()\u001b[0m\n\u001b[0;32m      2\u001b[0m \u001b[38;5;28;01mdef\u001b[39;00m \u001b[38;5;21mmain\u001b[39m():\n\u001b[0;32m      3\u001b[0m     \u001b[38;5;28mprint\u001b[39m(config_file)\n\u001b[1;32m----> 4\u001b[0m     config \u001b[38;5;241m=\u001b[39m \u001b[43mload_config\u001b[49m\u001b[43m(\u001b[49m\u001b[43m)\u001b[49m\n\u001b[0;32m      5\u001b[0m     \u001b[38;5;28mprint\u001b[39m(config)\n\u001b[0;32m      7\u001b[0m     \u001b[38;5;28;01mfor\u001b[39;00m system, instances \u001b[38;5;129;01min\u001b[39;00m config[\u001b[38;5;124m\"\u001b[39m\u001b[38;5;124msystems\u001b[39m\u001b[38;5;124m\"\u001b[39m]\u001b[38;5;241m.\u001b[39mitems():\n",
      "\u001b[1;31mTypeError\u001b[0m: load_config() missing 1 required positional argument: 'config_file'"
     ]
    }
   ],
   "source": [
    "if __name__ == \"__main__\":\n",
    "    main()"
   ]
  }
 ],
 "metadata": {
  "kernelspec": {
   "display_name": "Python 3",
   "language": "python",
   "name": "python3"
  },
  "language_info": {
   "codemirror_mode": {
    "name": "ipython",
    "version": 3
   },
   "file_extension": ".py",
   "mimetype": "text/x-python",
   "name": "python",
   "nbconvert_exporter": "python",
   "pygments_lexer": "ipython3",
   "version": "3.8.5"
  }
 },
 "nbformat": 4,
 "nbformat_minor": 2
}
