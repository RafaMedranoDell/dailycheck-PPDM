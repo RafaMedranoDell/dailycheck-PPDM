{
 "cells": [
  {
   "cell_type": "code",
   "execution_count": null,
   "metadata": {},
   "outputs": [],
   "source": [
    "import json\n",
    "import requests\n",
    "import urllib3\n",
    "from datetime import datetime, timedelta"
   ]
  },
  {
   "cell_type": "code",
   "execution_count": null,
   "metadata": {},
   "outputs": [],
   "source": [
    "config_file = \"config.json\""
   ]
  },
  {
   "cell_type": "code",
   "execution_count": null,
   "metadata": {},
   "outputs": [],
   "source": [
    "# deshabilitar la advertencia de InsecureRequestWarning\n",
    "urllib3.disable_warnings(urllib3.exceptions.InsecureRequestWarning)"
   ]
  },
  {
   "cell_type": "code",
   "execution_count": null,
   "metadata": {},
   "outputs": [],
   "source": [
    "# Funcion para leer configuracion desde JSON\n",
    "def load_config(config_file):\n",
    "    with open(config_file, \"r\") as file:\n",
    "        return json.load(file)"
   ]
  },
  {
   "cell_type": "code",
   "execution_count": null,
   "metadata": {},
   "outputs": [],
   "source": [
    "# Función para calcular fechas de filtro\n",
    "def calculate_date_filters():\n",
    "    now = datetime.utcnow()\n",
    "    twenty_four_hours_ago = now - timedelta(hours=24)\n",
    "    return {\n",
    "        \"now\": now.strftime(\"%Y-%m-%dT%H:%M:%SZ\"),\n",
    "        \"24_hours_ago\": twenty_four_hours_ago.strftime(\"%Y-%m-%dT%H:%M:%SZ\")\n",
    "    }"
   ]
  },
  {
   "cell_type": "code",
   "execution_count": null,
   "metadata": {},
   "outputs": [],
   "source": [
    "# Llamada genérica a la API\n",
    "def fetch_data(endpoint, headers=None):\n",
    "    try:\n",
    "        response = requests.get(endpoint, headers=headers, verify=False)\n",
    "        if response.status_code == 200:\n",
    "            return response.json()\n",
    "        else:\n",
    "            print(f\"Error al obtener datos de la API: {response.status_code}\")\n",
    "            return None\n",
    "    except requests.RequestException as e:\n",
    "        print(f\"Error en la solicitud de la API: {e}\")\n",
    "        return None"
   ]
  },
  {
   "cell_type": "code",
   "execution_count": null,
   "metadata": {},
   "outputs": [],
   "source": [
    "def filter_fields(data, fields):\n",
    "    # Si `data` es una lista de entradas, se aplica a cada entrada\n",
    "    if isinstance(data, list):\n",
    "        return [{key: item[key] for key in fields if key in item} for item in data]\n",
    "    # Si `data` es un solo diccionario, aplica directamente\n",
    "    elif isinstance(data, dict):\n",
    "        return {key: data[key] for key in fields if key in data}\n",
    "    return data"
   ]
  },
  {
   "cell_type": "code",
   "execution_count": null,
   "metadata": {},
   "outputs": [],
   "source": [
    "# Guardar los datos en un archivo JSON\n",
    "def save_json(data, system, instance, query_name):\n",
    "    output_file = f\"{system}-{instance}-{query_name}.json\"\n",
    "    with open(output_file, \"w\") as file:\n",
    "        json.dump(data, file, indent=4)\n",
    "    print(f\"Datos guardados en: {output_file}\")"
   ]
  },
  {
   "cell_type": "code",
   "execution_count": null,
   "metadata": {},
   "outputs": [],
   "source": [
    "# Función para obtener el token de autenticación de PPDM\n",
    "def get_token_PPDM (ppdm_instance):\n",
    "    url = f'https://{ppdm_instance}:8443/api/v2/login'\n",
    "    headers = {\n",
    "        'Content-Type': 'application/json'\n",
    "    }\n",
    "\n",
    "    # Credenciales desde variables de entorno\n",
    "    data = {\n",
    "        \"username\" : 'DCOapi',\n",
    "        \"password\" : 'Password123!'\n",
    "    }\n",
    "\n",
    "    try:\n",
    "        response = requests.post(url, headers=headers, data=json.dumps(data), verify=False)\n",
    "        if response.status_code == 200:\n",
    "            response_json = response.json()\n",
    "            access_token = response_json.get('access_token')\n",
    "            refresh_token = response_json.get('refresh_token')\n",
    "            return access_token, refresh_token\n",
    "        else:\n",
    "            print(f\"Error al obtener el token: {response.status_code}\")\n",
    "            return None, None\n",
    "    except requests.RequestException as e:\n",
    "        print(f\"Error en la solicitud de autenticación: {e}\")\n",
    "        return None, None"
   ]
  },
  {
   "cell_type": "code",
   "execution_count": null,
   "metadata": {},
   "outputs": [],
   "source": [
    "def fetch_system_health_issues(instance, access_token):\n",
    "    headers = {\"Authorization\": f\"Bearer {access_token}\"}  # Añade \"Bearer \" si es necesario\n",
    "    fields = [\n",
    "        \"healthCategory\", \"severity\", \"scoreDeduction\", \"componentType\",\n",
    "        \"componentName\", \"messageID\", \"detailedDescription\", \"responseAction\"\n",
    "    ]\n",
    "    endpoint = f\"https://{instance}:8443/api/v2/system-health-issues\"\n",
    "    print(endpoint)\n",
    "\n",
    "    # Obtén los datos sin filtrado inicial\n",
    "    data = fetch_data(endpoint, headers)\n",
    "\n",
    "    # Aplica el filtrado si los datos se recibieron correctamente\n",
    "    if data:\n",
    "        filtered_data = filter_fields(data, fields)\n",
    "        return filtered_data\n",
    "    return None\n"
   ]
  },
  {
   "cell_type": "code",
   "execution_count": null,
   "metadata": {},
   "outputs": [],
   "source": [
    "def main():\n",
    "    config = load_config(config_file)\n",
    "    \n",
    "    for system, instances in config[\"systems\"].items():\n",
    "        for instance in instances:\n",
    "            # Obtener token de autenticación\n",
    "            access_token, _ = get_token_PPDM(instance)\n",
    "            print(system, instance, access_token)\n",
    "            if not access_token:\n",
    "                print(f\"Error: no se pudo obtener el token para {instance}.\")\n",
    "                continue\n",
    "\n",
    "            if system == \"PPDM\":\n",
    "                data = fetch_system_health_issues(instance, access_token)\n",
    "               \n",
    "                if data:\n",
    "                    save_json(data, system, instance, \"system_health_issues\")\n",
    "    "
   ]
  },
  {
   "cell_type": "code",
   "execution_count": null,
   "metadata": {},
   "outputs": [],
   "source": [
    "if __name__ == \"__main__\":\n",
    "    main()"
   ]
  }
 ],
 "metadata": {
  "kernelspec": {
   "display_name": "Python 3",
   "language": "python",
   "name": "python3"
  },
  "language_info": {
   "codemirror_mode": {
    "name": "ipython",
    "version": 3
   },
   "file_extension": ".py",
   "mimetype": "text/x-python",
   "name": "python",
   "nbconvert_exporter": "python",
   "pygments_lexer": "ipython3",
   "version": "3.8.5"
  }
 },
 "nbformat": 4,
 "nbformat_minor": 2
}
