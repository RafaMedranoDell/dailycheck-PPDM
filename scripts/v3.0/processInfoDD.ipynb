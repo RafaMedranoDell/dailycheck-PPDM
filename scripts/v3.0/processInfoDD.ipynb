{
 "cells": [
  {
   "cell_type": "code",
   "execution_count": 1,
   "metadata": {},
   "outputs": [],
   "source": [
    "import modules.functions as fn\n",
    "import os\n",
    "import glob\n",
    "import pandas as pd"
   ]
  },
  {
   "cell_type": "code",
   "execution_count": 2,
   "metadata": {},
   "outputs": [],
   "source": [
    "#Definicion de Variables\n",
    "config_file = \"config_encrypted.json\""
   ]
  },
  {
   "cell_type": "code",
   "execution_count": 3,
   "metadata": {},
   "outputs": [],
   "source": [
    "def process_if_not_empty(file_path, process_function, system, instance, config, csvPath):\n",
    "    \"\"\"Checks if the JSON data is empty; if not, converts it to a DataFrame and processes it.\"\"\"\n",
    "    data = fn.load_json_file(file_path)\n",
    "    if not data:\n",
    "        print(f'El archivo \"{file_path}\" está vacío o no contiene datos válidos. Se omitirá.')\n",
    "        return\n",
    "    \n",
    "    df = pd.DataFrame(data)\n",
    "    process_function(df, system, instance, config, csvPath)\n"
   ]
  },
  {
   "cell_type": "code",
   "execution_count": null,
   "metadata": {},
   "outputs": [],
   "source": [
    "def process_alerts_severity_summary(df, system, instance, config, csvPath):\n",
    "\n",
    "    df_alerts_severity_summary = df['severity'].value_counts().reset_index()\n",
    "    df_alerts_severity_summary.columns = ['severity', 'NumAlerts']\n",
    "\n",
    "    # Get file paths from config\n",
    "    csv_files = config['systems'][system]['files']['csv']\n",
    "\n",
    "    fn.save_dataframe_to_csv(df_alerts_severity_summary, os.path.join(csvPath, f'{system}-{instance}-{csv_files[\"alertSeveritySummary\"]}'))\n",
    "\n"
   ]
  },
  {
   "cell_type": "code",
   "execution_count": 5,
   "metadata": {},
   "outputs": [],
   "source": [
    "def process_services_status(df, system, instance, config, csvPath):\n",
    "\n",
    "    # Get file paths from config\n",
    "    csv_files = config['systems'][system]['files']['csv']\n",
    "\n",
    "    fn.save_dataframe_to_csv(df, os.path.join(csvPath, f'{system}-{instance}-{csv_files[\"servicesStatus\"]}'))\n",
    "\n"
   ]
  },
  {
   "cell_type": "code",
   "execution_count": 6,
   "metadata": {},
   "outputs": [],
   "source": [
    "def process_alerts_by_class(df, system, instance, config, csvPath):\n",
    "\n",
    "    # Posibles clases de alertas\n",
    "    possible_classAlerts = [\n",
    "        \"capacity\", \"Cifs\", \"Cloud\", \"Cluster\", \"dataAvailability\", \n",
    "        \"Environment\", \"Filesystem\", \"Firmware\", \"ha\", \"HardwareFailure\", \n",
    "        \"infrastructure\", \"Network\", \"Replication\", \n",
    "        \"Security\",  \"Syslog\", \"SystemMaintenance\", \"Storage\"\n",
    "    ]\n",
    "\n",
    "    # Contar las ocurrencias de cada valor en 'class' en el DataFrame original\n",
    "    class_counts = df['class'].value_counts()\n",
    "\n",
    "    # Crear un DataFrame asegurando que todos los valores posibles de 'class' estén incluidos\n",
    "    df_num_alerts_by_class = pd.DataFrame(possible_classAlerts, columns=['class'])\n",
    "    df_num_alerts_by_class['numAlerts'] = df_num_alerts_by_class['class'].map(class_counts).fillna(0).astype(int)\n",
    "\n",
    "    # Get file paths from config\n",
    "    csv_files = config['systems'][system]['files']['csv']\n",
    "\n",
    "    fn.save_dataframe_to_csv(df_num_alerts_by_class, os.path.join(csvPath, f'{system}-{instance}-{csv_files[\"alertsByClass\"]}'))\n",
    "\n"
   ]
  },
  {
   "cell_type": "code",
   "execution_count": 7,
   "metadata": {},
   "outputs": [],
   "source": [
    "def main():\n",
    "    \"\"\"Main function that coordinates all tasks.\"\"\"\n",
    "    # Load configuration\n",
    "    config = fn.load_json_file(config_file)\n",
    "\n",
    "    # Obtener la ruta base y la ruta de los ficheros JSON\n",
    "    base_path = config[\"basePath\"]  # Obtener la ruta base desde el archivo de configuración\n",
    "    json_relative_path = config[\"jsonPath\"]\n",
    "    csv_relative_path = config[\"csvPath\"]\n",
    "    jsonPath = os.path.join(base_path, json_relative_path)\n",
    "    csvPath = os.path.join(base_path, csv_relative_path)\n",
    "\n",
    "    for system, system_config in config[\"systems\"].items():\n",
    "\n",
    "        # Verificar si el sistema es PPDM\n",
    "        if system != \"DD\":\n",
    "            continue  # Saltar a la siguiente iteración si no es PPDM\n",
    "\n",
    "        print(f'PROCESANDO SISTEMAS \"{system}\"')\n",
    "        print('------------------------')\n",
    "\n",
    "        json_files = system_config['files']['json']\n",
    "        \n",
    "        for instance_config in system_config['instances']:\n",
    "            hostname = instance_config[\"hostname\"]\n",
    "\n",
    "            print(f'Procesando información de : \"{hostname}\"')\n",
    "\n",
    "            # Process Active Alerts\n",
    "            activeAlerts_file = glob.glob(os.path.join(jsonPath, f'{system}-{hostname}-{json_files[\"activeAlerts\"]}')) \n",
    "            if not activeAlerts_file:\n",
    "                print(f'  No existe el fichero \"{system}-{hostname}-{json_files[\"activeAlerts\"]}\"')           \n",
    "            else:\n",
    "                print(f'  {hostname}: Procesando fichero: {activeAlerts_file}')\n",
    "                for file_path in activeAlerts_file:\n",
    "                    process_if_not_empty(file_path, process_alerts_severity_summary, system, hostname, config, csvPath)\n",
    "                    process_if_not_empty(file_path, process_alerts_by_class, system, hostname, config, csvPath)\n",
    "\n",
    "            # Process Status of Service \n",
    "            services_file = glob.glob(os.path.join(jsonPath, f'{system}-{hostname}-{json_files[\"services\"]}')) \n",
    "            if not services_file:\n",
    "                print(f'  No existe el fichero \"{system}-{hostname}-{json_files[\"services\"]}\"')           \n",
    "            else:\n",
    "                print(f'  {hostname}: Procesando fichero: {services_file}')\n",
    "                for file_path in services_file:\n",
    "                    process_if_not_empty(file_path, process_services_status, system, hostname, config, csvPath)\n",
    "\n"
   ]
  },
  {
   "cell_type": "code",
   "execution_count": 8,
   "metadata": {},
   "outputs": [
    {
     "name": "stdout",
     "output_type": "stream",
     "text": [
      "PROCESANDO SISTEMAS \"DD\"\n",
      "------------------------\n",
      "Procesando información de : \"ddve-01\"\n",
      "  ddve-01: Procesando fichero: ['E:\\\\DC\\\\dailycheck-PPDM\\\\jsonFiles\\\\DD-ddve-01-active_alerts.json']\n",
      "   severity  NumAlerts\n",
      "0  CRITICAL          2\n",
      "1    NOTICE          1\n",
      "2     ERROR          1\n",
      "3     ALERT          1\n",
      "    File saved succesfully: E:\\DC\\dailycheck-PPDM\\csvFiles\\DD-ddve-01-alert_severity_summary.csv\n",
      "    File saved succesfully: E:\\DC\\dailycheck-PPDM\\csvFiles\\DD-ddve-01-alerts_by_class.csv\n",
      "  ddve-01: Procesando fichero: ['E:\\\\DC\\\\dailycheck-PPDM\\\\jsonFiles\\\\DD-ddve-01-services.json']\n",
      "    File saved succesfully: E:\\DC\\dailycheck-PPDM\\csvFiles\\DD-ddve-01-services_status.csv\n"
     ]
    }
   ],
   "source": [
    "if __name__ == \"__main__\":\n",
    "    main()"
   ]
  }
 ],
 "metadata": {
  "kernelspec": {
   "display_name": "Python 3",
   "language": "python",
   "name": "python3"
  },
  "language_info": {
   "codemirror_mode": {
    "name": "ipython",
    "version": 3
   },
   "file_extension": ".py",
   "mimetype": "text/x-python",
   "name": "python",
   "nbconvert_exporter": "python",
   "pygments_lexer": "ipython3",
   "version": "3.8.5"
  }
 },
 "nbformat": 4,
 "nbformat_minor": 2
}
