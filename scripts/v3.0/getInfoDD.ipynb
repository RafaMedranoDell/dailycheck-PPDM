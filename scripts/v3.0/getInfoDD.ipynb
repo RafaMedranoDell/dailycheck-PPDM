{
 "cells": [
  {
   "cell_type": "code",
   "execution_count": 1,
   "metadata": {},
   "outputs": [],
   "source": [
    "import os\n",
    "import requests\n",
    "import json\n",
    "import urllib3\n",
    "from password_manager import PasswordManager\n",
    "import modules.functions as fn"
   ]
  },
  {
   "cell_type": "code",
   "execution_count": 2,
   "metadata": {},
   "outputs": [],
   "source": [
    "# deshabilitar la advertencia de InsecureRequestWarning\n",
    "urllib3.disable_warnings(urllib3.exceptions.InsecureRequestWarning)"
   ]
  },
  {
   "cell_type": "code",
   "execution_count": 3,
   "metadata": {},
   "outputs": [],
   "source": [
    "#Definicion de Variables\n",
    "config_file = \"config_encrypted.json\""
   ]
  },
  {
   "cell_type": "code",
   "execution_count": 4,
   "metadata": {},
   "outputs": [],
   "source": [
    "#Funcion para obtener el token\n",
    "def get_token_DD(instance, username, encrypted_password, cert_file):\n",
    "    url = f'https://ddve-01:3009/rest/v1.0/auth'\n",
    "    headers = {\n",
    "        'Content-Type': 'application/json'\n",
    "    }\n",
    "\n",
    "    # Crear instancia de PasswordManager y desencriptar la contraseña\n",
    "    password_manager = PasswordManager()\n",
    "    password = password_manager.decrypt_password(encrypted_password)\n",
    "    print(instance, username, password)\n",
    "\n",
    "    data = {\n",
    "        \"username\": username,\n",
    "        \"password\": password\n",
    "    }\n",
    "\n",
    "    response = requests.post(url, headers=headers, data=json.dumps(data), verify=False)\n",
    "    #response = requests.post(url, headers=headers, data=json.dumps(data), verify=cert_file)\n",
    "    \n",
    "    if response.status_code == 201:        \n",
    "        access_token = response.headers.get('X-DD-AUTH-TOKEN')\n",
    "        return access_token\n",
    "    else:\n",
    "        print(f\"Error: {response.status_code}\")\n",
    "    return None"
   ]
  },
  {
   "cell_type": "code",
   "execution_count": 5,
   "metadata": {},
   "outputs": [],
   "source": [
    "def dd_get_alerts (instance, access_token, cert_file):\n",
    "    url = f'https://{instance}:3009/rest/v2/dd-systems/0/alerts'\n",
    "    headers = {\n",
    "        \"X-DD-AUTH-TOKEN\": access_token\n",
    "    }\n",
    "\n",
    "    filter_expression = \"status = active\"\n",
    "    page_size = \"50\"\n",
    "\n",
    "    params = {\n",
    "        'filter': filter_expression,\n",
    "        'size': page_size\n",
    "    }\n",
    "\n",
    "    response_data = requests.get(url, headers=headers, params=params, verify=False)\n",
    "    response_data_json = response_data.json()\n",
    "\n",
    "    if response_data.status_code != 200:\n",
    "        print(f\"Error: {response_data.status_code}\")\n",
    "        print(response_data.text)  # Detalles del error\n",
    "\n",
    "    # filtrar campos\n",
    "\n",
    "    fields = [\n",
    "        \"id\",\n",
    "        \"alert_id\",\n",
    "        \"event_id\",\n",
    "        \"status\",\n",
    "        \"class\",        \n",
    "        \"severity\",\n",
    "        \"name\",\n",
    "        \"alert_gen_epoch\",\n",
    "        \"description\",\n",
    "        \"msg\",\n",
    "        \"additional_info\",\n",
    "        \"clear_additional_info\",\n",
    "        \"action\"\n",
    "    ]\n",
    "\n",
    "    content_entries = response_data_json.get('alert_list', [])\n",
    "    filtered_results = fn.filter_entries(content_entries, fields)    \n",
    "\n",
    "    return filtered_results"
   ]
  },
  {
   "cell_type": "code",
   "execution_count": 6,
   "metadata": {},
   "outputs": [],
   "source": [
    "def dd_get_services (instance, access_token, cert_file):\n",
    "    url = f'https://{instance}:3009/rest/v1.0/dd-systems/0/services'\n",
    "    headers = {\n",
    "        \"X-DD-AUTH-TOKEN\": access_token\n",
    "    }\n",
    "    filter_expression = \"name = ntp|snmp|iscsi|asup|nfs|filesys|encryption|cloud|ddboost\"\n",
    "    params = {\n",
    "        \"filter\": filter_expression\n",
    "    }\n",
    "    \n",
    "    response_data = requests.get(url, headers=headers, params=params, verify=False)\n",
    "    response_data_json = response_data.json()\n",
    "\n",
    "    if response_data.status_code != 200:\n",
    "        print(f\"Error: {response_data.status_code}\")\n",
    "        print(response_data.text)  # Detalles del error\n",
    "\n",
    "\n",
    "    # filtrar campos\n",
    "\n",
    "    fields = [\n",
    "        \"name\",\n",
    "        \"status\"\n",
    "    ]\n",
    "\n",
    "    content_entries = response_data_json.get('services', [])\n",
    "    filtered_results = fn.filter_entries(content_entries, fields)    \n",
    "\n",
    "    return filtered_results"
   ]
  },
  {
   "cell_type": "code",
   "execution_count": 7,
   "metadata": {},
   "outputs": [],
   "source": [
    "def main():\n",
    "    config = fn.load_json_file(config_file)\n",
    "    base_path = config[\"basePath\"]  # Obtener la ruta base desde el archivo de configuración\n",
    "    json_relative_path = config[\"jsonPath\"]\n",
    "    jsonPath = os.path.join(base_path, json_relative_path)\n",
    "\n",
    "    for system, system_data in config[\"systems\"].items():\n",
    "        json_files = system_data[\"files\"][\"json\"]  # Obtener los nombres de los archivos JSON del sistema\n",
    "        for instance_info in system_data[\"instances\"]:\n",
    "            instance = instance_info[\"hostname\"]\n",
    "            username = instance_info[\"username\"]\n",
    "            encrypted_password = instance_info[\"encrypted_password\"]\n",
    "\n",
    "\n",
    "            if system == \"DD\":\n",
    "                cert_relative_path = config['systems']['PPDM']['files']['cert']\n",
    "                cert_file = os.path.join(base_path, cert_relative_path)  \n",
    "\n",
    "                access_token = get_token_DD(instance, username, encrypted_password, cert_file)\n",
    "\n",
    "                if not access_token:\n",
    "                    print(f\"Error: no se pudo obtener el token para {instance}.\")\n",
    "                    continue\n",
    "\n",
    "                print(\"Fetching active alerts...\")\n",
    "                data = dd_get_alerts(instance, access_token, cert_file)\n",
    "                fn.save_json(data, system, instance, json_files[\"activeAlerts\"], jsonPath)                            \n",
    "\n",
    "                print(\"Fetching state of services...\")\n",
    "                data = dd_get_services(instance, access_token, cert_file)\n",
    "                fn.save_json(data, system, instance, json_files[\"services\"], jsonPath)"
   ]
  },
  {
   "cell_type": "code",
   "execution_count": 8,
   "metadata": {},
   "outputs": [
    {
     "name": "stdout",
     "output_type": "stream",
     "text": [
      "ddve-01 DCOapi Password123!\n",
      "Fetching active alerts...\n",
      "Data saved in: E:\\DC\\dailycheck-PPDM\\jsonFiles\\DD-ddve-01-active_alerts.json\n",
      "Fetching state of services...\n",
      "Data saved in: E:\\DC\\dailycheck-PPDM\\jsonFiles\\DD-ddve-01-services.json\n"
     ]
    }
   ],
   "source": [
    "if __name__ == \"__main__\":\n",
    "    main()"
   ]
  }
 ],
 "metadata": {
  "kernelspec": {
   "display_name": "Python 3",
   "language": "python",
   "name": "python3"
  },
  "language_info": {
   "codemirror_mode": {
    "name": "ipython",
    "version": 3
   },
   "file_extension": ".py",
   "mimetype": "text/x-python",
   "name": "python",
   "nbconvert_exporter": "python",
   "pygments_lexer": "ipython3",
   "version": "3.8.5"
  }
 },
 "nbformat": 4,
 "nbformat_minor": 2
}
