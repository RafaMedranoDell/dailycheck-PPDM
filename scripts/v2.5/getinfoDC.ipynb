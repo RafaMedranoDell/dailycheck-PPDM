{
 "cells": [
  {
   "cell_type": "code",
   "execution_count": null,
   "metadata": {},
   "outputs": [],
   "source": [
    "import os\n",
    "import requests\n",
    "import json\n",
    "import urllib3\n",
    "from datetime import datetime, timedelta\n",
    "from password_manager import PasswordManager"
   ]
  },
  {
   "cell_type": "code",
   "execution_count": null,
   "metadata": {},
   "outputs": [],
   "source": [
    "# deshabilitar la advertencia de InsecureRequestWarning\n",
    "#urllib3.disable_warnings(urllib3.exceptions.InsecureRequestWarning)"
   ]
  },
  {
   "cell_type": "code",
   "execution_count": null,
   "metadata": {},
   "outputs": [],
   "source": [
    "#Definicion de Variables\n",
    "config_file = \"config_encrypted.json\""
   ]
  },
  {
   "cell_type": "code",
   "execution_count": null,
   "metadata": {},
   "outputs": [],
   "source": [
    "# Funcion para leer configuracion desde JSON\n",
    "def load_config(config_file):\n",
    "    with open(config_file, \"r\") as file:\n",
    "        return json.load(file)"
   ]
  },
  {
   "cell_type": "markdown",
   "metadata": {},
   "source": [
    "### FUNCIONES PARA FILTRAR POR FECHA ###"
   ]
  },
  {
   "cell_type": "code",
   "execution_count": null,
   "metadata": {},
   "outputs": [],
   "source": [
    "def get_current_time():\n",
    "    return datetime.utcnow().strftime('%Y-%m-%dT%H:%M:%SZ')"
   ]
  },
  {
   "cell_type": "code",
   "execution_count": null,
   "metadata": {},
   "outputs": [],
   "source": [
    "def get_24_hours_ago():\n",
    "    now = datetime.utcnow()\n",
    "    twenty_four_hours_ago = now - timedelta(hours=24)\n",
    "    return twenty_four_hours_ago.strftime(\"%Y-%m-%dT%H:%M:%SZ\")"
   ]
  },
  {
   "cell_type": "markdown",
   "metadata": {},
   "source": [
    "### FUNCION \"get_filtered_results\" ###\n",
    "Función Auxiliar: Maneja la paginacion y aplica los filtros necesarios a los resultados obtenidos"
   ]
  },
  {
   "cell_type": "code",
   "execution_count": null,
   "metadata": {},
   "outputs": [],
   "source": [
    "def get_filtered_results(url, headers, params, fields, cert_file):\n",
    "    all_filtered_results = []\n",
    "    page = 1\n",
    "    total_pages = None\n",
    "\n",
    "    while total_pages is None or page <= total_pages:\n",
    "        response_data = requests.get(f\"{url}?page={page}\", headers=headers, params=params, verify=cert_file)\n",
    "        response_data_json = response_data.json()\n",
    "\n",
    "        if response_data.status_code != 200:\n",
    "            print(f\"Error: {response_data.status_code}\")\n",
    "            print(response_data.text)  # Detalles del error\n",
    "            break\n",
    "\n",
    "        if total_pages is None:\n",
    "            total_pages = response_data_json['page']['totalPages']\n",
    "            print(\"TOTAL PAGES: \", total_pages)\n",
    "        \n",
    "        print(f\"PAGE NUMBER: {page}\")\n",
    "\n",
    "        content_entries = response_data_json.get('content', [])\n",
    "        filtered_results = filter_entries(content_entries, fields)\n",
    "        all_filtered_results.extend(filtered_results)\n",
    "\n",
    "        page += 1  # Incrementar la pgina para la siguiente iteracin\n",
    "\n",
    "    return all_filtered_results"
   ]
  },
  {
   "cell_type": "markdown",
   "metadata": {},
   "source": [
    "### FUNCION \"get_value_from_nested_keys\" y \"filter_entries\" ###\n",
    "recorre un diccionario anidado para obtener el valor correspondiente a una lista de claves.\n"
   ]
  },
  {
   "cell_type": "code",
   "execution_count": null,
   "metadata": {},
   "outputs": [],
   "source": [
    "def get_value_from_nested_keys(data, keys):\n",
    "    for key in keys:\n",
    "        if not isinstance(data, dict):\n",
    "            return None\n",
    "        data = data.get(key)\n",
    "    return data"
   ]
  },
  {
   "cell_type": "markdown",
   "metadata": {},
   "source": [
    "### FUNCION \"filter_entries\" ###\n",
    "toma una lista de diccionarios anidados y aplanara cada uno de estos diccionarios segun los campos especificados en fields. \n",
    "Cada campo a extraer puede ser especificado con su ruta completa, y el valor correspondiente sera almacenado en el diccionario resultante usando el nombre de campo completo."
   ]
  },
  {
   "cell_type": "code",
   "execution_count": null,
   "metadata": {},
   "outputs": [],
   "source": [
    "def filter_entries(entries, fields):\n",
    "    filtered_results = []\n",
    "    for entry in entries:\n",
    "        filtered_entry = {}\n",
    "        for field in fields:\n",
    "            keys = field.split('.')\n",
    "            value = get_value_from_nested_keys(entry, keys)\n",
    "            filtered_entry[field] = value\n",
    "        filtered_results.append(filtered_entry)\n",
    "    return filtered_results"
   ]
  },
  {
   "cell_type": "markdown",
   "metadata": {},
   "source": [
    "# LLAMADAS PPDM #"
   ]
  },
  {
   "cell_type": "markdown",
   "metadata": {},
   "source": [
    "### FUNCION PARA OBTENER TOKEN ###"
   ]
  },
  {
   "cell_type": "code",
   "execution_count": null,
   "metadata": {},
   "outputs": [],
   "source": [
    "#Funcion para obtener el token\n",
    "def get_token_PPDM(instance, username, encrypted_password, cert_file):\n",
    "    url = f'https://{instance}:8443/api/v2/login'\n",
    "    headers = {\n",
    "        'Content-Type': 'application/json'\n",
    "    }\n",
    "\n",
    "    # Crear instancia de PasswordManager y desencriptar la contraseña\n",
    "    password_manager = PasswordManager()\n",
    "    password = password_manager.decrypt_password(encrypted_password)\n",
    "\n",
    "    data = {\n",
    "        \"username\": username,\n",
    "        \"password\": password\n",
    "    }\n",
    "\n",
    "    response = requests.post(url, headers=headers, data=json.dumps(data), verify=cert_file)\n",
    "\n",
    "    if response.status_code == 200:\n",
    "        response_json = response.json()\n",
    "        access_token = response_json.get('access_token')\n",
    "        refresh_token = response_json.get('refresh_token')\n",
    "        return access_token, refresh_token\n",
    "    else:\n",
    "        print(f\"Error: {response.status_code}\")\n",
    "    return None, None"
   ]
  },
  {
   "cell_type": "markdown",
   "metadata": {},
   "source": [
    "### FUNCION \"get_Activities_no_ok\" ###"
   ]
  },
  {
   "cell_type": "code",
   "execution_count": null,
   "metadata": {},
   "outputs": [],
   "source": [
    "def get_activities_not_ok(instance, access_token, cert_file, today, twenty_four_hours_ago):\n",
    "    url = f'https://{instance}:8443/api/v2/activities'\n",
    "    headers = {\n",
    "        'Authorization': access_token\n",
    "    }\n",
    "    filter_expression = (\n",
    "        f'createTime ge \"{twenty_four_hours_ago}\" and createTime lt \"{today}\" '\n",
    "        f'and result.status ne \"OK\" '\n",
    "        f'and protectionPolicy.name ne null '\n",
    "        f'and result.error.code ne null'\n",
    "    )\n",
    "    params = {\n",
    "        'filter': filter_expression\n",
    "    }\n",
    "    fields = [\n",
    "        \"category\",\n",
    "        \"classType\",\n",
    "        \"result.status\",\n",
    "        \"result.error.code\",\n",
    "        \"result.error.detailedDescription\",\n",
    "        \"result.error.extendedReason\",\n",
    "        \"result.error.reason\",\n",
    "        \"result.error.remediation\",\n",
    "        \"asset.name\",\n",
    "        \"asset.type\",\n",
    "        \"host.name\",\n",
    "        \"host.type\",\n",
    "        \"inventorySource.type\",\n",
    "        \"protectionPolicy.name\",\n",
    "        \"protectionPolicy.type\",\n",
    "        \"createTime\",\n",
    "        \"endTime\"\n",
    "    ]\n",
    "    return get_filtered_results(url, headers, params, fields, cert_file)"
   ]
  },
  {
   "cell_type": "markdown",
   "metadata": {},
   "source": [
    "### FUNCION \"get_job_group_activities\" ###"
   ]
  },
  {
   "cell_type": "code",
   "execution_count": null,
   "metadata": {},
   "outputs": [],
   "source": [
    "def get_job_group_activities(instance, access_token, cert_file, today, twenty_four_hours_ago):\n",
    "    url = f'https://{instance}:8443/api/v2/activities'\n",
    "    headers = {\n",
    "        'Authorization': access_token\n",
    "    }\n",
    "    filter_expression = (\n",
    "        f'createTime ge \"{twenty_four_hours_ago}\" and createTime lt \"{today}\" and classType eq \"JOB_GROUP\"'\n",
    "    )\n",
    "    params = {\n",
    "        'filter': filter_expression\n",
    "    }\n",
    "    fields = [\n",
    "        \"category\",\n",
    "        \"classType\",\n",
    "        \"result.status\",\n",
    "        \"createTime\",\n",
    "        \"endTime\"\n",
    "    ]\n",
    "    return get_filtered_results(url, headers, params, fields, cert_file)"
   ]
  },
  {
   "cell_type": "markdown",
   "metadata": {},
   "source": [
    "### FUNCION \"get_health_issues\" ###"
   ]
  },
  {
   "cell_type": "code",
   "execution_count": null,
   "metadata": {},
   "outputs": [],
   "source": [
    "def get_health_issues(instance,access_token, cert_file):\n",
    "    url = f'https://{instance}:8443/api/v2/system-health-issues'\n",
    "    headers = {\n",
    "        'Authorization': access_token\n",
    "    }\n",
    "    params = {}  # No especificaste filtros, dejando vaco\n",
    "    fields = [\n",
    "        \"healthCategory\",\n",
    "        \"severity\",\n",
    "        \"scoreDeduction\",\n",
    "        \"componentType\",\n",
    "        \"componentName\",\n",
    "        \"messageID\",\n",
    "        \"detailedDescription\",\n",
    "        \"responseAction\"\n",
    "    ]\n",
    "    return get_filtered_results(url, headers, params, fields, cert_file)\n"
   ]
  },
  {
   "cell_type": "markdown",
   "metadata": {},
   "source": [
    "### FUNCION \"get_storage_systems\" ###"
   ]
  },
  {
   "cell_type": "code",
   "execution_count": null,
   "metadata": {},
   "outputs": [],
   "source": [
    "def get_storage_systems(instance,access_token, cert_file):\n",
    "    url = f'https://{instance}:8443/api/v2/storage-systems'\n",
    "    headers = {\n",
    "        'Authorization': access_token\n",
    "    }\n",
    "    params = {}  # No especificaste filtros, dejando vaco\n",
    "    fields = {}\n",
    "\n",
    "    return get_filtered_results(url, headers, params, fields, cert_file)"
   ]
  },
  {
   "cell_type": "markdown",
   "metadata": {},
   "source": [
    "### FUNCION \"save_results_to_json\" ###"
   ]
  },
  {
   "cell_type": "code",
   "execution_count": null,
   "metadata": {},
   "outputs": [],
   "source": [
    "def save_results_to_json(filename, data):\n",
    "    with open(filename, 'w') as f:\n",
    "        json.dump(data, f, indent=4)"
   ]
  },
  {
   "cell_type": "code",
   "execution_count": null,
   "metadata": {},
   "outputs": [],
   "source": [
    "# Guardar los datos en un archivo JSON\n",
    "def save_json(data, system, instance, query_name, base_path):\n",
    "    output_file = os.path.join(base_path, f\"{system}-{instance}-{query_name}\")\n",
    "    with open(output_file, \"w\") as file:\n",
    "        json.dump(data, file, indent=4)\n",
    "    print(f\"Datos guardados en: {output_file}\")"
   ]
  },
  {
   "cell_type": "markdown",
   "metadata": {},
   "source": [
    "### LLAMADAS A FUNCIONES ###"
   ]
  },
  {
   "cell_type": "code",
   "execution_count": null,
   "metadata": {},
   "outputs": [],
   "source": [
    "def main():\n",
    "    config = load_config(config_file)\n",
    "    base_path = config[\"basePath\"]  # Obtener la ruta base desde el archivo de configuración\n",
    "    json_relative_path = config[\"jsonPath\"]\n",
    "    jsonPath = os.path.join(base_path, json_relative_path)\n",
    "    print(jsonPath)\n",
    "\n",
    "    for system, system_data in config[\"systems\"].items():\n",
    "        json_files = system_data[\"files\"][\"json\"]  # Obtener los nombres de los archivos JSON del sistema\n",
    "        for instance_info in system_data[\"instances\"]:\n",
    "            instance = instance_info[\"hostname\"]\n",
    "            username = instance_info[\"username\"]\n",
    "            # Cambiar password por encrypted_password\n",
    "            encrypted_password = instance_info[\"encrypted_password\"]\n",
    "            print(f'{instance} {username} {encrypted_password}')\n",
    "\n",
    "            if system == \"PPDM\":\n",
    "                cert_relative_path = config['systems']['PPDM']['files']['cert']\n",
    "                cert_file = os.path.join(base_path, cert_relative_path)\n",
    "                print(cert_file)\n",
    "                # Obtener token de autenticación\n",
    "                access_token, _ = get_token_PPDM(instance, username, encrypted_password, cert_file)\n",
    "                print(system)\n",
    "                print(system, instance, access_token)\n",
    "\n",
    "                if not access_token:\n",
    "                    print(f\"Error: no se pudo obtener el token para {instance}.\")\n",
    "                    continue\n",
    "\n",
    "                today = get_current_time()\n",
    "                twenty_four_hours_ago = get_24_hours_ago()\n",
    "\n",
    "                print(\"Fetching health issues...\")\n",
    "                data = get_health_issues(instance, access_token, cert_file)\n",
    "                save_json(data, system, instance, json_files[\"systemHealthIssues\"], jsonPath)\n",
    "\n",
    "                print(\"Fetching job group activities...\")\n",
    "                data = get_job_group_activities(instance, access_token, cert_file, today, twenty_four_hours_ago)\n",
    "                save_json(data, system, instance, json_files[\"jobGroupActivitiesSummary\"], jsonPath)\n",
    "\n",
    "                print(\"Fetching activities that are not OK...\")\n",
    "                data = get_activities_not_ok(instance, access_token, cert_file, today, twenty_four_hours_ago)\n",
    "                save_json(data, system, instance, json_files[\"activitiesNotOK\"], jsonPath)\n",
    "\n",
    "                print(\"Fetching storage systems...\")\n",
    "                data = get_storage_systems(instance, access_token, cert_file)\n",
    "                save_json(data, system, instance, json_files[\"storageSystems\"], jsonPath)"
   ]
  },
  {
   "cell_type": "code",
   "execution_count": null,
   "metadata": {},
   "outputs": [],
   "source": [
    "if __name__ == \"__main__\":\n",
    "    main()"
   ]
  }
 ],
 "metadata": {
  "kernelspec": {
   "display_name": "Python 3",
   "language": "python",
   "name": "python3"
  },
  "language_info": {
   "codemirror_mode": {
    "name": "ipython",
    "version": 3
   },
   "file_extension": ".py",
   "mimetype": "text/x-python",
   "name": "python",
   "nbconvert_exporter": "python",
   "pygments_lexer": "ipython3",
   "version": "3.8.5"
  }
 },
 "nbformat": 4,
 "nbformat_minor": 2
}
