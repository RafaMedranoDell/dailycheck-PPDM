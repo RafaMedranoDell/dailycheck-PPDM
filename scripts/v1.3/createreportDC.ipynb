{
 "cells": [
  {
   "cell_type": "code",
   "execution_count": 38,
   "metadata": {},
   "outputs": [],
   "source": [
    "import pandas as pd\n",
    "import webbrowser\n",
    "import tempfile\n",
    "import json\n",
    "import glob"
   ]
  },
  {
   "cell_type": "code",
   "execution_count": 39,
   "metadata": {},
   "outputs": [],
   "source": [
    "# Leer el archivo de configuración\n",
    "with open(\"config.json\") as config_file:\n",
    "    config = json.load(config_file)"
   ]
  },
  {
   "cell_type": "code",
   "execution_count": 40,
   "metadata": {},
   "outputs": [],
   "source": [
    "# Función para cargar y aplicar estilo a los datos\n",
    "def load_and_style_data(system, hostname):\n",
    "    # Cargar los archivos basados en el hostname y system\n",
    "    health_files = glob.glob(f\"{system}-{hostname}-Dashboard-Health.csv\")\n",
    "    job_files = glob.glob(f\"{system}-{hostname}-Dashboard-JobGroupActivities.csv\")\n",
    "\n",
    "    # Inicializar variables para almacenar el HTML\n",
    "    html_health = \"\"\n",
    "    html_job_group = \"\"\n",
    "\n",
    "    # Procesar archivos de \"Health\"\n",
    "    for health_file in health_files:\n",
    "        df_health = pd.read_csv(health_file)\n",
    "        styled_health = df_health.style.map(color_score, subset=['Score'])\n",
    "        html_health += styled_health.to_html()\n",
    "\n",
    "    # Procesar archivos de \"Job Group Activities\"\n",
    "    for job_file in job_files:\n",
    "        df_job_group = pd.read_csv(job_file)\n",
    "        styled_job_group = df_job_group.style.apply(color_failed, axis=1)\n",
    "        html_job_group += styled_job_group.to_html()\n",
    "\n",
    "    return html_health, html_job_group"
   ]
  },
  {
   "cell_type": "code",
   "execution_count": 41,
   "metadata": {},
   "outputs": [],
   "source": [
    "# Definir la función para colorear las celdas en la columna \"Score\"\n",
    "def color_score(val):\n",
    "    if val == 0:\n",
    "        return 'background-color: green'\n",
    "    elif 0 > val >= -20:\n",
    "        return 'background-color: yellow'\n",
    "    elif val < -20:\n",
    "        return 'background-color: red'\n",
    "    return ''"
   ]
  },
  {
   "cell_type": "code",
   "execution_count": 42,
   "metadata": {},
   "outputs": [],
   "source": [
    "# Definir la función para colorear la celda en la columna \"Num\" de la fila \"FAILED\" en la segunda tabla\n",
    "def color_failed(row):\n",
    "    if row['STATUS'] == 'Failed' and row['Num'] != 0:\n",
    "        return ['background-color: red'] * len(row)\n",
    "    return [''] * len(row)"
   ]
  },
  {
   "cell_type": "code",
   "execution_count": null,
   "metadata": {},
   "outputs": [],
   "source": [
    "# CSS personalizado para mejorar el estilo visual de las tablas\n",
    "table_style = \"\"\"\n",
    "<style>\n",
    "    table {\n",
    "        border-collapse: collapse;\n",
    "        width: 100%;\n",
    "        font-family: Arial, sans-serif;\n",
    "        margin-bottom: 20px;\n",
    "        font-size: 10px;  /* Tamaño de fuente para toda la tabla */\n",
    "    }\n",
    "    th, td {\n",
    "        border: 1px solid #ddd;\n",
    "        padding: 8px;\n",
    "        text-align: left;\n",
    "        font-size: 10px;  /* Tamaño de fuente para las celdas */\n",
    "    }\n",
    "    th {\n",
    "        background-color: #cccccc;\n",
    "        color: white;\n",
    "        font-weight: bold;\n",
    "    }\n",
    "    tr:nth-child(even) {\n",
    "        background-color: #f2f2f2;\n",
    "    }\n",
    "    tr:hover {\n",
    "        background-color: #ddd;\n",
    "    }\n",
    "</style>\n",
    "\"\"\""
   ]
  },
  {
   "cell_type": "code",
   "execution_count": 72,
   "metadata": {},
   "outputs": [],
   "source": [
    "# # Crear el cuerpo HTML del correo\n",
    "# html_body = \"<html><body><h2 style='font-family: Arial, sans-serif; color: #0044cc;'>DAILYCHECK PPDM</h2>\""
   ]
  },
  {
   "cell_type": "code",
   "execution_count": 73,
   "metadata": {},
   "outputs": [],
   "source": [
    "# Crear el cuerpo HTML del correo\n",
    "html_body = f\"\"\"\n",
    "<html>\n",
    "    <head>{table_style}</head>\n",
    "    <body>\n",
    "        <h2 style=\"font-family: Arial, sans-serif; color: #0044cc;\">DAILYCHECK PPDM</h2>\n",
    "\"\"\""
   ]
  },
  {
   "cell_type": "code",
   "execution_count": 74,
   "metadata": {},
   "outputs": [],
   "source": [
    "# Iterar sobre los sistemas y hostnames en el archivo de configuración\n",
    "for system, instances in config[\"systems\"].items():\n",
    "    for instance in instances:\n",
    "        hostname = instance[\"hostname\"]\n",
    "\n",
    "        # Cargar y dar estilo a los datos para el hostname actual\n",
    "        html_health, html_job_group = load_and_style_data(system, hostname)\n",
    "\n",
    "        # Agregar la sección para el hostname actual\n",
    "        html_body += f\"\"\"\n",
    "        <h3 style=\"font-family: Arial, sans-serif; color: #0066cc;\">Hostname: {hostname}</h3>\n",
    "        \n",
    "        <div style=\"display: flex; justify-content: space-around; padding: 10px;\">\n",
    "            <div style=\"width: 48%;\">\n",
    "                <p style=\"font-family: Arial, sans-serif; font-weight: bold; text-decoration: underline; color: #333;\">\n",
    "                    Health Status\n",
    "                </p>\n",
    "                {html_health}\n",
    "            </div>\n",
    "            <div style=\"width: 48%;\">\n",
    "                <p style=\"font-family: Arial, sans-serif; font-weight: bold; text-decoration: underline; color: #333;\">\n",
    "                    Jobs | Protection - Last 24 hours\n",
    "                </p>\n",
    "                {html_job_group}\n",
    "            </div>\n",
    "        </div>\n",
    "        \"\"\""
   ]
  },
  {
   "cell_type": "code",
   "execution_count": 75,
   "metadata": {},
   "outputs": [],
   "source": [
    "# Finalizar el HTML\n",
    "html_body += \"</body></html>\""
   ]
  },
  {
   "cell_type": "code",
   "execution_count": 76,
   "metadata": {},
   "outputs": [],
   "source": [
    "# Guardar el HTML en un archivo temporal y abrirlo en el navegador\n",
    "with tempfile.NamedTemporaryFile('w', delete=False, suffix='.html') as f:\n",
    "    f.write(html_body)\n",
    "    temp_file_path = f.name"
   ]
  },
  {
   "cell_type": "code",
   "execution_count": 77,
   "metadata": {},
   "outputs": [
    {
     "data": {
      "text/plain": [
       "True"
      ]
     },
     "execution_count": 77,
     "metadata": {},
     "output_type": "execute_result"
    }
   ],
   "source": [
    "# Abrir el archivo en el navegador predeterminado\n",
    "webbrowser.open(f'file://{temp_file_path}')"
   ]
  }
 ],
 "metadata": {
  "kernelspec": {
   "display_name": "Python 3",
   "language": "python",
   "name": "python3"
  },
  "language_info": {
   "codemirror_mode": {
    "name": "ipython",
    "version": 3
   },
   "file_extension": ".py",
   "mimetype": "text/x-python",
   "name": "python",
   "nbconvert_exporter": "python",
   "pygments_lexer": "ipython3",
   "version": "3.10.5"
  }
 },
 "nbformat": 4,
 "nbformat_minor": 2
}
