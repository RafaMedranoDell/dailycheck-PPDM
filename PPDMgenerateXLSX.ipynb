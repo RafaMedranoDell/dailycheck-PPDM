{
 "cells": [
  {
   "cell_type": "code",
   "execution_count": 1,
   "metadata": {},
   "outputs": [],
   "source": [
    "import json\n",
    "import os\n",
    "import pandas as pd\n",
    "from datetime import datetime\n",
    "from openpyxl import load_workbook\n",
    "from openpyxl.utils.dataframe import dataframe_to_rows\n",
    "from openpyxl.worksheet.table import Table, TableStyleInfo\n",
    "import modules.functions as fn\n"
   ]
  },
  {
   "cell_type": "code",
   "execution_count": 3,
   "metadata": {},
   "outputs": [],
   "source": [
    "# Función principal para procesar un archivo CSV e insertar sus datos en una tabla Excel existente\n",
    "def process_csv_to_existing_table(config, system, hostname):\n",
    "    # Obtener las rutas y nombres de archivos del sistema\n",
    "    csv_dir = os.path.join(config[\"basePath\"], config[\"csvPath\"])\n",
    "    xlsx_dir = os.path.join(config[\"basePath\"], config[\"xlsxPath\"])\n",
    "    template_file = os.path.join(xlsx_dir, config[\"systems\"][system][\"files\"][\"xlsx\"][\"activitiesNoOkSummary\"])\n",
    "    csv_filename = config[\"systems\"][system][\"files\"][\"csv\"][\"activitiesNoOkSummary\"]\n",
    "\n",
    "    # Construir las rutas de entrada y salida\n",
    "    csv_path = os.path.join(csv_dir, f\"PPDM-{hostname}-{csv_filename}\")\n",
    "    output_file = os.path.join(xlsx_dir, f\"{datetime.now().strftime('%Y%m%d')}-PPDM-{hostname}-activities_no_ok_summary.xlsx\")\n",
    "\n",
    "    # Verificar si el archivo CSV existe\n",
    "    if not os.path.exists(csv_path):\n",
    "        print(f\"Archivo CSV no encontrado: {csv_path}\")\n",
    "        return\n",
    "\n",
    "    # Leer el archivo CSV\n",
    "    data = pd.read_csv(csv_path)\n",
    "\n",
    "    # Cargar el archivo de Excel existente (plantilla)\n",
    "    wb = load_workbook(template_file)\n",
    "    if \"Data\" not in wb.sheetnames:\n",
    "        print(f\"La hoja 'Data' no existe en el archivo de plantilla.\")\n",
    "        return\n",
    "\n",
    "    ws = wb[\"Data\"]\n",
    "  \n",
    "    # Encontrar la tabla existente \"Table_errors\"\n",
    "    table_name = \"Table_errors\"\n",
    "\n",
    "    # Buscar la tabla 'Table_errors' usando ws.tables\n",
    "    table_name = 'Table_errors'\n",
    "    if table_name not in ws.tables:\n",
    "        print(f\"No se encontró la tabla '{table_name}' en la hoja 'Data'.\")\n",
    "    else:\n",
    "        table = ws.tables[table_name]\n",
    "        print(f\"Tabla '{table_name}' encontrada\")\n",
    "\n",
    "        # Determinar la última fila ocupada en la tabla y las columnas de la tabla\n",
    "        start_row = int(table.ref.split(\":\")[0][1:])  # Fila inicial de la tabla\n",
    "        col_start, col_end = table.ref.split(\":\")[0][0], table.ref.split(\":\")[1][0]\n",
    "\n",
    "        # Insertar los datos del CSV como nuevas filas en la hoja\n",
    "        for row in dataframe_to_rows(data, index=False, header=False):\n",
    "            ws.append(row)\n",
    "\n",
    "    # Calcular el nuevo rango de la tabla (incluyendo las filas añadidas)\n",
    "    new_end_row = ws.max_row\n",
    "    new_table_ref = f\"{col_start}{start_row}:{col_end}{new_end_row}\"\n",
    "    table.ref = new_table_ref  # Actualizar el rango de la tabla\n",
    "\n",
    "    # Aplicar estilo a la tabla (opcional, para mantener formato limpio)\n",
    "    style = TableStyleInfo(\n",
    "        name=\"TableStyleMedium1\",\n",
    "        showFirstColumn=False,\n",
    "        showLastColumn=False,\n",
    "        showRowStripes=True\n",
    "        #showColumnStripes=True\n",
    "    )\n",
    "    table.tableStyleInfo = style\n",
    "\n",
    "    # Guardar el archivo actualizado como un nuevo Excel\n",
    "    wb.save(output_file)\n",
    "    print(f\"Archivo generado: {output_file}\")"
   ]
  },
  {
   "cell_type": "code",
   "execution_count": 4,
   "metadata": {},
   "outputs": [],
   "source": [
    "# Función para procesar todos los sistemas de un tipo específico\n",
    "def process_all_instances(config, system):\n",
    "    for instance in config[\"systems\"][system][\"instances\"]:\n",
    "        hostname = instance[\"hostname\"]\n",
    "        print(f\"Procesando sistema: {hostname}\")\n",
    "        process_csv_to_existing_table(config, system, hostname)"
   ]
  },
  {
   "cell_type": "code",
   "execution_count": 5,
   "metadata": {},
   "outputs": [],
   "source": [
    "def main():\n",
    "    \"\"\"Main function that coordinates all tasks.\"\"\"\n",
    "    CONFIG_FILE = \"config_encrypted.json\"\n",
    "    config = fn.load_json_file(CONFIG_FILE)\n",
    "    process_all_instances(config, \"PPDM\")"
   ]
  },
  {
   "cell_type": "code",
   "execution_count": 6,
   "metadata": {},
   "outputs": [
    {
     "name": "stdout",
     "output_type": "stream",
     "text": [
      "Procesando sistema: PPDM-01.demo.local\n",
      "Tabla 'Table_errors' encontrada\n",
      "Archivo generado: C:\\github\\dailycheck-PPDM\\xlsxFiles\\20241213-PPDM-PPDM-01.demo.local-activities_no_ok_summary.xlsx\n",
      "Procesando sistema: 192.168.1.15\n",
      "Tabla 'Table_errors' encontrada\n",
      "Archivo generado: C:\\github\\dailycheck-PPDM\\xlsxFiles\\20241213-PPDM-192.168.1.15-activities_no_ok_summary.xlsx\n"
     ]
    }
   ],
   "source": [
    "# Bloque principal para ejecución directa\n",
    "if __name__ == \"__main__\":\n",
    "    main()"
   ]
  }
 ],
 "metadata": {
  "kernelspec": {
   "display_name": "Python 3",
   "language": "python",
   "name": "python3"
  },
  "language_info": {
   "codemirror_mode": {
    "name": "ipython",
    "version": 3
   },
   "file_extension": ".py",
   "mimetype": "text/x-python",
   "name": "python",
   "nbconvert_exporter": "python",
   "pygments_lexer": "ipython3",
   "version": "3.12.8"
  }
 },
 "nbformat": 4,
 "nbformat_minor": 2
}
