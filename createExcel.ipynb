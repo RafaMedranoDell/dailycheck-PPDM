{
 "cells": [
  {
   "cell_type": "code",
   "execution_count": 5,
   "metadata": {},
   "outputs": [],
   "source": [
    "import json\n",
    "import os\n",
    "\n"
   ]
  },
  {
   "cell_type": "code",
   "execution_count": null,
   "metadata": {},
   "outputs": [],
   "source": [
    "def process_ppdm_instances(ppdm_systems, csv_path):\n",
    "    # Iterar sobre los sistemas PPDM\n",
    "    for instance_config in ppdm_systems.get(\"instances\", []):\n"
   ]
  },
  {
   "cell_type": "code",
   "execution_count": null,
   "metadata": {},
   "outputs": [],
   "source": [
    "def main():\n",
    "    \"\"\"Main function that coordinates all tasks.\"\"\"\n",
    "    # Load configuration\n",
    "    with open(\"config_encrypted.json\") as config_file:\n",
    "        config = json.load(config_file)\n",
    "\n",
    "    # Obtener la ruta base y la ruta de los ficheros JSON\n",
    "    base_path = config[\"basePath\"]  # Obtener la ruta base desde el archivo de configuración\n",
    "    csv_relative_path = config[\"csvPath\"]\n",
    "    csvPath = os.path.join(base_path, csv_relative_path)\n",
    "\n",
    "    # Filtrar y procesar sistemas PPDM\n",
    "    ppdm_systems = config[\"systems\"].get(\"PPDM\", {})\n",
    "    if ppdm_systems:\n",
    "        process_ppdm_instances(ppdm_systems, csv_path)\n",
    "    else:\n",
    "        print(\"No se encontraron sistemas PPDM en la configuración.\")\n",
    "\n"
   ]
  }
 ],
 "metadata": {
  "kernelspec": {
   "display_name": "Python 3",
   "language": "python",
   "name": "python3"
  },
  "language_info": {
   "codemirror_mode": {
    "name": "ipython",
    "version": 3
   },
   "file_extension": ".py",
   "mimetype": "text/x-python",
   "name": "python",
   "nbconvert_exporter": "python",
   "pygments_lexer": "ipython3",
   "version": "3.10.5"
  }
 },
 "nbformat": 4,
 "nbformat_minor": 2
}
