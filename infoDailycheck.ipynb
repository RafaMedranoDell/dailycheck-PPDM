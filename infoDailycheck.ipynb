{
 "cells": [
  {
   "cell_type": "code",
   "execution_count": null,
   "metadata": {},
   "outputs": [],
   "source": [
    "import requests\n",
    "import json\n",
    "import urllib3\n",
    "from datetime import datetime, timedelta"
   ]
  },
  {
   "cell_type": "code",
   "execution_count": null,
   "metadata": {},
   "outputs": [],
   "source": [
    "#Definicion de Variables\n",
    "url_login = 'https://ppdm-01:8443/api/v2/login'\n",
    "username = 'DCOapi'\n",
    "password = 'Password123!'\n",
    "ppdm = 'ppdm-01'\n",
    "config_file = \"config.json\""
   ]
  },
  {
   "cell_type": "code",
   "execution_count": null,
   "metadata": {},
   "outputs": [],
   "source": [
    "# deshabilitar la advertencia de InsecureRequestWarning\n",
    "urllib3.disable_warnings(urllib3.exceptions.InsecureRequestWarning)"
   ]
  },
  {
   "cell_type": "code",
   "execution_count": null,
   "metadata": {},
   "outputs": [],
   "source": [
    "# Funcion para leer configuracion desde JSON\n",
    "def load_config(config_file):\n",
    "    with open(config_file, \"r\") as file:\n",
    "        return json.load(file)"
   ]
  },
  {
   "cell_type": "markdown",
   "metadata": {},
   "source": [
    "### FUNCIONES PARA FILTRAR POR FECHA ###"
   ]
  },
  {
   "cell_type": "code",
   "execution_count": null,
   "metadata": {},
   "outputs": [],
   "source": [
    "def get_current_time():\n",
    "    return datetime.utcnow().strftime('%Y-%m-%dT%H:%M:%SZ')"
   ]
  },
  {
   "cell_type": "code",
   "execution_count": null,
   "metadata": {},
   "outputs": [],
   "source": [
    "def get_24_hours_ago():\n",
    "    now = datetime.utcnow()\n",
    "    twenty_four_hours_ago = now - timedelta(hours=24)\n",
    "    return twenty_four_hours_ago.strftime(\"%Y-%m-%dT%H:%M:%SZ\")"
   ]
  },
  {
   "cell_type": "markdown",
   "metadata": {},
   "source": [
    "### FUNCION PARA OBTENER TOKEN ###"
   ]
  },
  {
   "cell_type": "code",
   "execution_count": null,
   "metadata": {},
   "outputs": [],
   "source": [
    "#Funcion para obtener el token\n",
    "def get_token_PPDM(instance,username, password):\n",
    "    url = f'https://{instance}:8443/api/v2/login'\n",
    "    headers = {\n",
    "        'Content-Type': 'application/json'\n",
    "    }\n",
    "\n",
    "    data = {\n",
    "        \"username\": username,\n",
    "        \"password\": password\n",
    "    }\n",
    "\n",
    "    response = requests.post(url, headers=headers, data=json.dumps(data), verify=False)\n",
    "\n",
    "    if response.status_code == 200:\n",
    "        response_json = response.json()\n",
    "        access_token = response_json.get('access_token')\n",
    "        refresh_token = response_json.get('refresh_token')\n",
    "        return access_token, refresh_token\n",
    "    else:\n",
    "        print(f\"Error: {response.status_code}\")\n",
    "    return None, None"
   ]
  },
  {
   "cell_type": "markdown",
   "metadata": {},
   "source": [
    "### FUNCION \"get_filtered_results\" ###\n",
    "Función Auxiliar: Maneja la paginacion y aplica los filtros necesarios a los resultados obtenidos"
   ]
  },
  {
   "cell_type": "code",
   "execution_count": null,
   "metadata": {},
   "outputs": [],
   "source": [
    "def get_filtered_results(url, headers, params, fields):\n",
    "    all_filtered_results = []\n",
    "    page = 1\n",
    "    total_pages = None\n",
    "\n",
    "    while total_pages is None or page <= total_pages:\n",
    "        response_data = requests.get(f\"{url}?page={page}\", headers=headers, params=params, verify=False)\n",
    "        response_data_json = response_data.json()\n",
    "\n",
    "        if response_data.status_code != 200:\n",
    "            print(f\"Error: {response_data.status_code}\")\n",
    "            print(response_data.text)  # Detalles del error\n",
    "            break\n",
    "\n",
    "        if total_pages is None:\n",
    "            total_pages = response_data_json['page']['totalPages']\n",
    "            print(\"TOTAL PAGES: \", total_pages)\n",
    "        \n",
    "        print(f\"PAGE NUMBER: {page}\")\n",
    "\n",
    "        content_entries = response_data_json.get('content', [])\n",
    "        filtered_results = filter_entries(content_entries, fields)\n",
    "        all_filtered_results.extend(filtered_results)\n",
    "\n",
    "        page += 1  # Incrementar la pgina para la siguiente iteracin\n",
    "\n",
    "    return all_filtered_results"
   ]
  },
  {
   "cell_type": "markdown",
   "metadata": {},
   "source": [
    "### FUNCION \"get_value_from_nested_keys\" y \"filter_entries\" ###\n",
    "recorre un diccionario anidado para obtener el valor correspondiente a una lista de claves.\n"
   ]
  },
  {
   "cell_type": "code",
   "execution_count": null,
   "metadata": {},
   "outputs": [],
   "source": [
    "def get_value_from_nested_keys(data, keys):\n",
    "    for key in keys:\n",
    "        if not isinstance(data, dict):\n",
    "            return None\n",
    "        data = data.get(key)\n",
    "    return data"
   ]
  },
  {
   "cell_type": "markdown",
   "metadata": {},
   "source": [
    "### FUNCION \"filter_entries\" ###\n",
    "toma una lista de diccionarios anidados y aplanara cada uno de estos diccionarios segun los campos especificados en fields. \n",
    "Cada campo a extraer puede ser especificado con su ruta completa, y el valor correspondiente sera almacenado en el diccionario resultante usando el nombre de campo completo."
   ]
  },
  {
   "cell_type": "code",
   "execution_count": null,
   "metadata": {},
   "outputs": [],
   "source": [
    "def filter_entries(entries, fields):\n",
    "    filtered_results = []\n",
    "    for entry in entries:\n",
    "        filtered_entry = {}\n",
    "        for field in fields:\n",
    "            keys = field.split('.')\n",
    "            value = get_value_from_nested_keys(entry, keys)\n",
    "            filtered_entry[field] = value\n",
    "        filtered_results.append(filtered_entry)\n",
    "    return filtered_results"
   ]
  },
    "    params = {\n",
    "        'filter': filter_expression\n",
    "    }\n",
    "    fields = [\n",
    "        \"category\",\n",
    "        \"classType\",\n",
    "        \"result.status\",\n",
    "        \"result.error.code\",\n",
    "        \"result.error.detailedDescription\",\n",
    "        \"result.error.extendedReason\",\n",
    "        \"result.error.reason\",\n",
    "        \"result.error.remediation\",\n",
    "        \"asset.name\",\n",
    "        \"asset.type\",\n",
    "        \"host.name\",\n",
    "        \"host.type\",\n",
    "        \"inventorySource.type\",\n",
    "        \"protectionPolicy.name\",\n",
    "        \"protectionPolicy.type\",\n",
    "        \"createTime\",\n",
    "        \"endTime\"\n",
    "    ]\n",
    "    return get_filtered_results(url, headers, params, fields)"
   ]
  },
  {
   "cell_type": "markdown",
   "metadata": {},
   "source": [
    "### FUNCION \"get_job_group_activities\" ###"
   ]
  },
  {
   "cell_type": "code",
   "execution_count": null,
   "metadata": {},
   "outputs": [],
   "source": [
    "def get_job_group_activities(instance, access_token, today, twenty_four_hours_ago):\n",
    "    url = f'https://{instance}:8443/api/v2/activities'\n",
    "    headers = {\n",
    "        'Authorization': access_token\n",
    "    }\n",
    "    filter_expression = (\n",
    "        f'createTime ge \"{twenty_four_hours_ago}\" and createTime lt \"{today}\" and classType eq \"JOB_GROUP\"'\n",
    "    )\n",
    "    params = {\n",
    "        'filter': filter_expression\n",
    "    }\n",
    "    fields = [\n",
    "        \"category\",\n",
    "        \"classType\",\n",
    "        \"result.status\",\n",
    "        \"createTime\",\n",
    "        \"endTime\"\n",
    "    ]\n",
    "    return get_filtered_results(url, headers, params, fields)"
   ]
  },
  {
   "cell_type": "markdown",
   "metadata": {},
   "source": [
    "### FUNCION \"get_health_issues\" ###"
   ]
  },
  {
   "cell_type": "code",
   "execution_count": null,
   "metadata": {},
   "outputs": [],
   "source": [
    "def get_health_issues(instance,access_token):\n",
    "    url = f'https://{instance}:8443/api/v2/system-health-issues'\n",
    "    headers = {\n",
    "        'Authorization': access_token\n",
    "    }\n",
    "    params = {}  # No especificaste filtros, dejando vaco\n",
    "    fields = [\n",
    "        \"healthCategory\",\n",
    "        \"severity\",\n",
    "        \"scoreDeduction\",\n",
    "        \"componentType\",\n",
    "        \"componentName\",\n",
    "        \"messageID\",\n",
    "        \"detailedDescription\",\n",
    "        \"responseAction\"\n",
    "    ]\n",
    "    return get_filtered_results(url, headers, params, fields)"
   ]
  },
  {
   "cell_type": "markdown",
   "metadata": {},
   "source": [
    "### FUNCION \"save_results_to_json\" ###"
   ]
  },
  {
   "cell_type": "code",
   "execution_count": null,
   "metadata": {},
   "outputs": [],
   "source": [
    "def save_results_to_json(filename, data):\n",
    "    with open(filename, 'w') as f:\n",
    "        json.dump(data, f, indent=4)"
   ]
  },
  {
   "cell_type": "code",
   "execution_count": null,
   "metadata": {},
   "outputs": [],
   "source": [
    "# Guardar los datos en un archivo JSON\n",
    "def save_json(data, system, instance, query_name):\n",
    "    output_file = f\"{system}-{instance}-{query_name}.json\"\n",
    "    with open(output_file, \"w\") as file:\n",
    "        json.dump(data, file, indent=4)\n",
    "    print(f\"Datos guardados en: {output_file}\")"
   ]
  },
  {
   "cell_type": "markdown",
   "metadata": {},
   "source": [
    "### LLAMADAS A FUNCIONES ###"
   ]
  },
  {
   "cell_type": "code",
   "execution_count": null,
   "metadata": {},
   "outputs": [],
   "source": [
    "def main():\n",
    "    config = load_config(config_file)\n",
    "\n",
    "    for system, instances in config[\"systems\"].items():\n",
    "        for instance in instances:\n",
    "\n",
    "            if system == \"PPDM\":\n",
    "                # Obtener token de autenticación\n",
    "                access_token, _ = get_token_PPDM(instance,username,password)\n",
    "                print(system, instance, access_token)\n",
    "\n",
    "                if not access_token:\n",
    "                    print(f\"Error: no se pudo obtener el token para {instance}.\")\n",
    "                    continue\n",
    "\n",
    "                today = get_current_time()\n",
    "                twenty_four_hours_ago = get_24_hours_ago()\n",
    "\n",
    "                print(\"Fetching health issues...\")\n",
    "                data = get_health_issues(instance, access_token)\n",
    "                #print(\"Filtered results for health issues:\", health_issues)\n",
    "                save_json(data, system, instance, \"system_health_issues\")\n",
    "                print(\"Saved health issues to health_issues.json\")\n",
    "\n",
    "                print(\"Fetching job group activities...\")\n",
    "                data = get_job_group_activities(instance, access_token, today, twenty_four_hours_ago)\n",
    "                #print(\"Filtered results for job group activities:\", job_group_activities)\n",
    "                save_json(data, system, instance, \"JobGroup_activities_summary\")\n",
    "                print(f'Saved {instance} JOB_GROUP activities to json file')\n",
    "\n",
    "                print(\"Fetching activities that are not OK...\")\n",
    "                data = get_activities_not_ok(instance, access_token, today, twenty_four_hours_ago)\n",
    "                #print(\"Filtered results for activities not OK:\", not_ok_activities)\n",
    "                #save_results_to_json('activitiesNoOK.json', not_ok_activities)\n",
    "                save_json(data, system, instance, \"activitiesNotOK\")\n",
    "                print(\"Saved not OK activities to activitiesNoOK.json\")\n",
    "\n",
    "    "
   ]
  },
  {
   "cell_type": "code",
   "execution_count": null,
   "metadata": {},
   "outputs": [],
   "source": [
    "if __name__ == \"__main__\":\n",
    "    main()"
   ]
  }
 ],
 "metadata": {
  "kernelspec": {
   "display_name": "Python 3",
   "language": "python",
   "name": "python3"
  },
  "language_info": {
   "codemirror_mode": {
    "name": "ipython",
    "version": 3
   },
   "file_extension": ".py",
   "mimetype": "text/x-python",
   "name": "python",
   "nbconvert_exporter": "python",
   "pygments_lexer": "ipython3",
   "version": "3.8.5"
  }
 },
 "nbformat": 4,
 "nbformat_minor": 2
}
