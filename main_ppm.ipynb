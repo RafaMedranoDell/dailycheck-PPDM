{
 "cells": [
  {
   "cell_type": "code",
   "execution_count": null,
   "metadata": {},
   "outputs": [],
   "source": [
    "import os\n",
    "import modules.functions as fn\n",
    "import modules.api_calls.ppdm as ppdm\n",
    "import urllib3\n"
   ]
  },
  {
   "cell_type": "code",
   "execution_count": null,
   "metadata": {},
   "outputs": [],
   "source": [
    "#Definicion de Variables\n",
    "config_file = \"config_encrypted.json\""
   ]
  },
  {
   "cell_type": "code",
   "execution_count": null,
   "metadata": {},
   "outputs": [],
   "source": [
    "# deshabilitar la advertencia de InsecureRequestWarning\n",
    "urllib3.disable_warnings(urllib3.exceptions.InsecureRequestWarning)"
   ]
  },
  {
   "cell_type": "code",
   "execution_count": 25,
   "metadata": {},
   "outputs": [],
   "source": [
    "def main():\n",
    "    config = fn.load_json_file(config_file)\n",
    "    base_path = config[\"basePath\"]\n",
    "    json_relative_path = config[\"jsonPath\"]\n",
    "    jsonPath = os.path.join(base_path, json_relative_path)\n",
    "    print (base_path)\n",
    "    print(jsonPath)\n",
    "\n",
    "    for system, system_data in config[\"systems\"].items():\n",
    "        json_files = system_data[\"files\"][\"json\"]  # Obtener los nombres de los archivos JSON del sistema\n",
    "        #print (system, system_data)\n",
    "        #print(config[\"systems\"])\n",
    "        print(json_files)\n",
    "\n",
    "\n"
   ]
  },
  {
   "cell_type": "code",
   "execution_count": 26,
   "metadata": {},
   "outputs": [
    {
     "name": "stdout",
     "output_type": "stream",
     "text": [
      "E:\\DC\\dailycheck-PPDM\n",
      "E:\\DC\\dailycheck-PPDM\\jsonFiles\n",
      "{'activitiesNotOK': 'activitiesNotOK.json', 'jobGroupActivitiesSummary': 'JobGroup_activities_summary.json', 'systemHealthIssues': 'system_health_issues.json', 'storageSystems': 'storage_systems.json'}\n",
      "{'activeAlerts': 'active_alerts.json', 'services': 'services.json'}\n"
     ]
    }
   ],
   "source": [
    "if __name__ == \"__main__\":\n",
    "    main()"
   ]
  }
 ],
 "metadata": {
  "kernelspec": {
   "display_name": "Python 3",
   "language": "python",
   "name": "python3"
  },
  "language_info": {
   "codemirror_mode": {
    "name": "ipython",
    "version": 3
   },
   "file_extension": ".py",
   "mimetype": "text/x-python",
   "name": "python",
   "nbconvert_exporter": "python",
   "pygments_lexer": "ipython3",
   "version": "3.8.5"
  }
 },
 "nbformat": 4,
 "nbformat_minor": 2
}
